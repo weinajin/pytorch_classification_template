{
 "cells": [
  {
   "cell_type": "markdown",
   "metadata": {},
   "source": [
    "# Experiment pipeline\n",
    "\n",
    "1. load data: in Uncertainty class __init__. Instantiate an Uncertainty instance.\n",
    "    - load trained model\n",
    "    - for the trained model, and its validation set (w/ corresponding activations, predictions, and gt), instantiate a CulpritNeuronScore instance, for further culprit score compute\n",
    "    - load query dataset activations, predictions, gt. (gt is only used for validate the methods, in query time with user, gt is unknown)\n",
    "\n",
    "\n",
    "2. compute culprit matrix for a given trained model: get_culprit_matrix(), get_baseline() for random culprit comparison as baseline.\n",
    "    - specify: model, culprit method\n",
    "    \n",
    "    \n",
    "3. compute uncertain matrix given the culprit mtx, and the query data activations: get_uncertain_matrix()\n",
    "\n",
    "\n",
    "4. visualize the results, compute the correlation between gt error and the uncertain mtx."
   ]
  },
  {
   "cell_type": "code",
   "execution_count": 1,
   "metadata": {},
   "outputs": [],
   "source": [
    "import numpy as np\n",
    "import matplotlib.pyplot as plt\n",
    "from pipeline import *\n",
    "\n",
    "\n",
    "%load_ext autoreload\n",
    "%autoreload 2"
   ]
  },
  {
   "cell_type": "code",
   "execution_count": 17,
   "metadata": {},
   "outputs": [
    {
     "name": "stdout",
     "output_type": "stream",
     "text": [
      "*** actv shape (ignore dim 0 - batch size) is: [torch.Size([64, 64, 55, 55]), torch.Size([64, 192, 27, 27]), torch.Size([64, 384, 13, 13]), torch.Size([64, 256, 13, 13]), torch.Size([64, 256, 13, 13]), torch.Size([64, 4096]), torch.Size([64, 4096]), torch.Size([64, 2])] .\n",
      "*** saved/query_actv/ data loaded ***\n",
      "*** feature shape is torch.Size([150, 9346]).\n",
      "*** actv shape (ignore dim 0 - batch size) is: [torch.Size([64, 64, 55, 55]), torch.Size([64, 192, 27, 27]), torch.Size([64, 384, 13, 13]), torch.Size([64, 256, 13, 13]), torch.Size([64, 256, 13, 13]), torch.Size([64, 4096]), torch.Size([64, 4096]), torch.Size([64, 2])] .\n",
      "*** saved/val_actv/ data loaded ***\n",
      "*** label size is (600,), right prediction is 459.\n",
      "*** feature shape is torch.Size([600, 9346]).\n",
      "[select = 0] 385\n",
      "[select = 0] 815\n",
      "*** select method, culprit matrix shape is: (2, 9346)\n"
     ]
    },
    {
     "name": "stderr",
     "output_type": "stream",
     "text": [
      "/local-scratch/weinaj/pytorch_classification_template/culprit.py:135: RuntimeWarning: divide by zero encountered in true_divide\n",
      "  selectivity = np.where(np.absolute(sum_mean) >1e-5, diff_mean/sum_mean, sum_mean)\n",
      "/local-scratch/weinaj/pytorch_classification_template/culprit.py:135: RuntimeWarning: invalid value encountered in true_divide\n",
      "  selectivity = np.where(np.absolute(sum_mean) >1e-5, diff_mean/sum_mean, sum_mean)\n",
      "/local-scratch/weinaj/anaconda3/envs/pt10/lib/python3.6/site-packages/scipy/stats/stats.py:3033: RuntimeWarning: Mean of empty slice.\n",
      "  mx = x.mean()\n",
      "/local-scratch/weinaj/anaconda3/envs/pt10/lib/python3.6/site-packages/numpy/core/_methods.py:85: RuntimeWarning: invalid value encountered in true_divide\n",
      "  ret = ret.dtype.type(ret / rcount)\n",
      "/local-scratch/weinaj/anaconda3/envs/pt10/lib/python3.6/site-packages/scipy/stats/stats.py:3034: RuntimeWarning: Mean of empty slice.\n",
      "  my = y.mean()\n",
      "/local-scratch/weinaj/anaconda3/envs/pt10/lib/python3.6/site-packages/numpy/core/_methods.py:85: RuntimeWarning: invalid value encountered in double_scalars\n",
      "  ret = ret.dtype.type(ret / rcount)\n",
      "/local-scratch/weinaj/anaconda3/envs/pt10/lib/python3.6/site-packages/scipy/stats/stats.py:3038: RuntimeWarning: invalid value encountered in double_scalars\n",
      "  r = r_num / r_den\n"
     ]
    },
    {
     "name": "stdout",
     "output_type": "stream",
     "text": [
      "*** experiment data saved at saved/vis_mean_select_cosine_l1_0323_165809 ***\n"
     ]
    }
   ],
   "source": [
    "%run pipeline.py"
   ]
  },
  {
   "cell_type": "code",
   "execution_count": 2,
   "metadata": {},
   "outputs": [],
   "source": [
    "from pipeline import *\n"
   ]
  },
  {
   "cell_type": "code",
   "execution_count": 13,
   "metadata": {},
   "outputs": [
    {
     "name": "stdout",
     "output_type": "stream",
     "text": [
      "*** actv shape (ignore dim 0 - batch size) is: [torch.Size([64, 64, 55, 55]), torch.Size([64, 192, 27, 27]), torch.Size([64, 384, 13, 13]), torch.Size([64, 256, 13, 13]), torch.Size([64, 256, 13, 13]), torch.Size([64, 4096]), torch.Size([64, 4096]), torch.Size([64, 2])] .\n",
      "*** saved/query_actv/ data loaded ***\n",
      "*** feature shape is torch.Size([150, 9346]).\n",
      "*** actv shape (ignore dim 0 - batch size) is: [torch.Size([64, 64, 55, 55]), torch.Size([64, 192, 27, 27]), torch.Size([64, 384, 13, 13]), torch.Size([64, 256, 13, 13]), torch.Size([64, 256, 13, 13]), torch.Size([64, 4096]), torch.Size([64, 4096]), torch.Size([64, 2])] .\n",
      "*** saved/val_actv/ data loaded ***\n",
      "*** label size is (600,), right prediction is 459.\n",
      "*** feature shape is torch.Size([600, 9346]).\n",
      "[select = 0] 385\n",
      "[select = 0] 815\n",
      "*** select method, culprit matrix shape is: (2, 9346)\n"
     ]
    },
    {
     "name": "stderr",
     "output_type": "stream",
     "text": [
      "/local-scratch/weinaj/pytorch_classification_template/culprit.py:135: RuntimeWarning: divide by zero encountered in true_divide\n",
      "  selectivity = np.where(np.absolute(sum_mean) >1e-5, diff_mean/sum_mean, sum_mean)\n",
      "/local-scratch/weinaj/pytorch_classification_template/culprit.py:135: RuntimeWarning: invalid value encountered in true_divide\n",
      "  selectivity = np.where(np.absolute(sum_mean) >1e-5, diff_mean/sum_mean, sum_mean)\n",
      "/local-scratch/weinaj/anaconda3/envs/pt10/lib/python3.6/site-packages/scipy/stats/stats.py:3033: RuntimeWarning: Mean of empty slice.\n",
      "  mx = x.mean()\n",
      "/local-scratch/weinaj/anaconda3/envs/pt10/lib/python3.6/site-packages/numpy/core/_methods.py:85: RuntimeWarning: invalid value encountered in true_divide\n",
      "  ret = ret.dtype.type(ret / rcount)\n",
      "/local-scratch/weinaj/anaconda3/envs/pt10/lib/python3.6/site-packages/scipy/stats/stats.py:3034: RuntimeWarning: Mean of empty slice.\n",
      "  my = y.mean()\n",
      "/local-scratch/weinaj/anaconda3/envs/pt10/lib/python3.6/site-packages/numpy/core/_methods.py:85: RuntimeWarning: invalid value encountered in double_scalars\n",
      "  ret = ret.dtype.type(ret / rcount)\n",
      "/local-scratch/weinaj/anaconda3/envs/pt10/lib/python3.6/site-packages/scipy/stats/stats.py:3038: RuntimeWarning: invalid value encountered in double_scalars\n",
      "  r = r_num / r_den\n"
     ]
    },
    {
     "ename": "OSError",
     "evalue": "[Errno 36] File name too long: 'saved/testrun_mean_select_cosine_l1_mean_select_cosine_l1_mean_select_cosine_l1_mean_select_cosine_l1_mean_select_cosine_l1_mean_select_cosine_l1_mean_select_cosine_l1_mean_select_cosine_l1_mean_select_cosine_l1_mean_select_cosine_l1_mean_select_cosine_l1_0323_165423'",
     "output_type": "error",
     "traceback": [
      "\u001b[0;31m---------------------------------------------------------------------------\u001b[0m",
      "\u001b[0;31mOSError\u001b[0m                                   Traceback (most recent call last)",
      "\u001b[0;32m<ipython-input-13-1f93033bb9ae>\u001b[0m in \u001b[0;36m<module>\u001b[0;34m\u001b[0m\n\u001b[0;32m----> 1\u001b[0;31m \u001b[0muncty\u001b[0m\u001b[0;34m,\u001b[0m \u001b[0msubdir\u001b[0m \u001b[0;34m=\u001b[0m \u001b[0mrun_experiment\u001b[0m\u001b[0;34m(\u001b[0m\u001b[0mexperiment_variables\u001b[0m\u001b[0;34m)\u001b[0m\u001b[0;34m\u001b[0m\u001b[0;34m\u001b[0m\u001b[0m\n\u001b[0m",
      "\u001b[0;32m/local-scratch/weinaj/pytorch_classification_template/pipeline.py\u001b[0m in \u001b[0;36mrun_experiment\u001b[0;34m(experiment_variables)\u001b[0m\n\u001b[1;32m     97\u001b[0m     \u001b[0msubdir\u001b[0m \u001b[0;34m=\u001b[0m \u001b[0mexperiment_saved_path\u001b[0m \u001b[0;34m+\u001b[0m \u001b[0;34m'/'\u001b[0m \u001b[0;34m+\u001b[0m \u001b[0mexperiment_saved_subfolder\u001b[0m\u001b[0;34m\u001b[0m\u001b[0;34m\u001b[0m\u001b[0m\n\u001b[1;32m     98\u001b[0m     \u001b[0;32mif\u001b[0m \u001b[0;32mnot\u001b[0m \u001b[0mos\u001b[0m\u001b[0;34m.\u001b[0m\u001b[0mpath\u001b[0m\u001b[0;34m.\u001b[0m\u001b[0mexists\u001b[0m\u001b[0;34m(\u001b[0m\u001b[0msubdir\u001b[0m\u001b[0;34m)\u001b[0m\u001b[0;34m:\u001b[0m\u001b[0;34m\u001b[0m\u001b[0;34m\u001b[0m\u001b[0m\n\u001b[0;32m---> 99\u001b[0;31m         \u001b[0mos\u001b[0m\u001b[0;34m.\u001b[0m\u001b[0mmkdir\u001b[0m\u001b[0;34m(\u001b[0m\u001b[0msubdir\u001b[0m\u001b[0;34m)\u001b[0m\u001b[0;34m\u001b[0m\u001b[0;34m\u001b[0m\u001b[0m\n\u001b[0m\u001b[1;32m    100\u001b[0m     \u001b[0;31m# save uncty_mtx, clpt_mtx, query_actv, nb_neuron_layer for vis\u001b[0m\u001b[0;34m\u001b[0m\u001b[0;34m\u001b[0m\u001b[0;34m\u001b[0m\u001b[0m\n\u001b[1;32m    101\u001b[0m     \u001b[0;32mwith\u001b[0m \u001b[0mopen\u001b[0m\u001b[0;34m(\u001b[0m\u001b[0msubdir\u001b[0m\u001b[0;34m+\u001b[0m\u001b[0;34m\"/\"\u001b[0m\u001b[0;34m+\u001b[0m\u001b[0;34m\"bl_uncty_mtx.csv\"\u001b[0m\u001b[0;34m,\u001b[0m\u001b[0;34m\"w+\"\u001b[0m\u001b[0;34m)\u001b[0m \u001b[0;32mas\u001b[0m \u001b[0mmy_csv\u001b[0m\u001b[0;34m:\u001b[0m\u001b[0;34m\u001b[0m\u001b[0;34m\u001b[0m\u001b[0m\n",
      "\u001b[0;31mOSError\u001b[0m: [Errno 36] File name too long: 'saved/testrun_mean_select_cosine_l1_mean_select_cosine_l1_mean_select_cosine_l1_mean_select_cosine_l1_mean_select_cosine_l1_mean_select_cosine_l1_mean_select_cosine_l1_mean_select_cosine_l1_mean_select_cosine_l1_mean_select_cosine_l1_mean_select_cosine_l1_0323_165423'"
     ]
    }
   ],
   "source": [
    "uncty, subdir = run_experiment(experiment_variables)"
   ]
  },
  {
   "cell_type": "markdown",
   "metadata": {},
   "source": [
    "# use the saved data for results visualization"
   ]
  },
  {
   "cell_type": "code",
   "execution_count": null,
   "metadata": {},
   "outputs": [],
   "source": [
    "import plotly.plotly as py\n",
    "import plotly.graph_objs as go"
   ]
  },
  {
   "cell_type": "code",
   "execution_count": null,
   "metadata": {},
   "outputs": [],
   "source": []
  },
  {
   "cell_type": "code",
   "execution_count": null,
   "metadata": {},
   "outputs": [],
   "source": []
  },
  {
   "cell_type": "code",
   "execution_count": null,
   "metadata": {},
   "outputs": [],
   "source": []
  },
  {
   "cell_type": "code",
   "execution_count": null,
   "metadata": {},
   "outputs": [],
   "source": []
  },
  {
   "cell_type": "code",
   "execution_count": null,
   "metadata": {},
   "outputs": [],
   "source": []
  },
  {
   "cell_type": "code",
   "execution_count": null,
   "metadata": {},
   "outputs": [],
   "source": []
  }
 ],
 "metadata": {
  "kernelspec": {
   "display_name": "Python 3",
   "language": "python",
   "name": "python3"
  },
  "language_info": {
   "codemirror_mode": {
    "name": "ipython",
    "version": 3
   },
   "file_extension": ".py",
   "mimetype": "text/x-python",
   "name": "python",
   "nbconvert_exporter": "python",
   "pygments_lexer": "ipython3",
   "version": "3.6.8"
  }
 },
 "nbformat": 4,
 "nbformat_minor": 2
}
