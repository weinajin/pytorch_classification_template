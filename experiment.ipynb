{
 "cells": [
  {
   "cell_type": "code",
   "execution_count": 5,
   "metadata": {},
   "outputs": [],
   "source": [
    "import torch\n",
    "import numpy as np\n",
    "\n",
    "%load_ext autoreload\n",
    "%autoreload 2"
   ]
  },
  {
   "cell_type": "markdown",
   "metadata": {},
   "source": [
    "# extract activation map for ISIC 2017 validation set"
   ]
  },
  {
   "cell_type": "raw",
   "metadata": {},
   "source": [
    "%run activation.py --device 1 -c config_skin_alexnet_val.json -r skinmodel/checkpoint.pth"
   ]
  },
  {
   "cell_type": "markdown",
   "metadata": {},
   "source": [
    "# compute culprit score from the activations, predictions, and gt"
   ]
  },
  {
   "cell_type": "code",
   "execution_count": null,
   "metadata": {},
   "outputs": [],
   "source": [
    "from culprit import *\n",
    "import json\n",
    "config = json.load(open('config_skin_alexnet.json'))\n",
    "os.environ[\"CUDA_VISIBLE_DEVICES\"]= '1'\n",
    "resume = 'skinmodel/checkpoint.pth'"
   ]
  },
  {
   "cell_type": "code",
   "execution_count": 6,
   "metadata": {},
   "outputs": [],
   "source": [
    "from uncertainty import *"
   ]
  },
  {
   "cell_type": "code",
   "execution_count": 48,
   "metadata": {
    "scrolled": true
   },
   "outputs": [
    {
     "name": "stdout",
     "output_type": "stream",
     "text": [
      "*** actv shape (ignore dim 0 - batch size) is: [torch.Size([64, 64, 55, 55]), torch.Size([64, 192, 27, 27]), torch.Size([64, 384, 13, 13]), torch.Size([64, 256, 13, 13]), torch.Size([64, 256, 13, 13]), torch.Size([64, 4096]), torch.Size([64, 4096]), torch.Size([64, 2])] .\n",
      "*** data loaded ***\n",
      "*** Flattened actv vector shape is torch.Size([150, 9346]).\n"
     ]
    },
    {
     "name": "stderr",
     "output_type": "stream",
     "text": [
      "\n",
      "\n",
      "\n",
      "\n",
      "\n",
      "\n",
      "\n",
      "  0%|          | 0/10 [00:00<?, ?it/s]\u001b[A\u001b[A\u001b[A\u001b[A\u001b[A\u001b[A\u001b[A\n",
      "\n",
      "\n",
      "\n",
      "\n",
      "\n",
      "\n",
      " 10%|█         | 1/10 [00:08<01:16,  8.54s/it]\u001b[A\u001b[A\u001b[A\u001b[A\u001b[A\u001b[A\u001b[A"
     ]
    },
    {
     "name": "stdout",
     "output_type": "stream",
     "text": [
      "*** cumulative actv map shape: torch.Size([64, 64, 55, 55])\n",
      "*** cumulative actv map shape: torch.Size([64, 192, 27, 27])\n",
      "*** cumulative actv map shape: torch.Size([64, 384, 13, 13])\n",
      "*** cumulative actv map shape: torch.Size([64, 256, 13, 13])\n",
      "*** cumulative actv map shape: torch.Size([64, 256, 13, 13])\n",
      "*** cumulative actv map shape: torch.Size([64, 4096])\n",
      "*** cumulative actv map shape: torch.Size([64, 4096])\n",
      "*** cumulative actv map shape: torch.Size([64, 2])\n"
     ]
    },
    {
     "name": "stderr",
     "output_type": "stream",
     "text": [
      "\n",
      "\n",
      "\n",
      "\n",
      "\n",
      "\n",
      "\n",
      " 20%|██        | 2/10 [00:18<01:12,  9.06s/it]\u001b[A\u001b[A\u001b[A\u001b[A\u001b[A\u001b[A\u001b[A"
     ]
    },
    {
     "name": "stdout",
     "output_type": "stream",
     "text": [
      "*** cumulative actv map shape: torch.Size([128, 64, 55, 55])\n",
      "*** cumulative actv map shape: torch.Size([128, 192, 27, 27])\n",
      "*** cumulative actv map shape: torch.Size([128, 384, 13, 13])\n",
      "*** cumulative actv map shape: torch.Size([128, 256, 13, 13])\n",
      "*** cumulative actv map shape: torch.Size([128, 256, 13, 13])\n",
      "*** cumulative actv map shape: torch.Size([128, 4096])\n",
      "*** cumulative actv map shape: torch.Size([128, 4096])\n",
      "*** cumulative actv map shape: torch.Size([128, 2])\n",
      "*** cumulative actv map shape: torch.Size([192, 64, 55, 55])\n",
      "*** cumulative actv map shape: torch.Size([192, 192, 27, 27])\n",
      "*** cumulative actv map shape: torch.Size([192, 384, 13, 13])\n",
      "*** cumulative actv map shape: torch.Size([192, 256, 13, 13])\n"
     ]
    },
    {
     "name": "stderr",
     "output_type": "stream",
     "text": [
      "\n",
      "\n",
      "\n",
      "\n",
      "\n",
      "\n",
      "\n",
      " 30%|███       | 3/10 [00:21<00:50,  7.15s/it]\u001b[A\u001b[A\u001b[A\u001b[A\u001b[A\u001b[A\u001b[A"
     ]
    },
    {
     "name": "stdout",
     "output_type": "stream",
     "text": [
      "*** cumulative actv map shape: torch.Size([192, 256, 13, 13])\n",
      "*** cumulative actv map shape: torch.Size([192, 4096])\n",
      "*** cumulative actv map shape: torch.Size([192, 4096])\n",
      "*** cumulative actv map shape: torch.Size([192, 2])\n",
      "*** cumulative actv map shape: torch.Size([256, 64, 55, 55])\n"
     ]
    },
    {
     "name": "stderr",
     "output_type": "stream",
     "text": [
      "\n",
      "\n",
      "\n",
      "\n",
      "\n",
      "\n",
      "\n",
      " 40%|████      | 4/10 [00:43<01:09, 11.51s/it]\u001b[A\u001b[A\u001b[A\u001b[A\u001b[A\u001b[A\u001b[A"
     ]
    },
    {
     "name": "stdout",
     "output_type": "stream",
     "text": [
      "*** cumulative actv map shape: torch.Size([256, 192, 27, 27])\n",
      "*** cumulative actv map shape: torch.Size([256, 384, 13, 13])\n",
      "*** cumulative actv map shape: torch.Size([256, 256, 13, 13])\n",
      "*** cumulative actv map shape: torch.Size([256, 256, 13, 13])\n",
      "*** cumulative actv map shape: torch.Size([256, 4096])\n",
      "*** cumulative actv map shape: torch.Size([256, 4096])\n",
      "*** cumulative actv map shape: torch.Size([256, 2])\n",
      "*** cumulative actv map shape: torch.Size([320, 64, 55, 55])\n"
     ]
    },
    {
     "name": "stderr",
     "output_type": "stream",
     "text": [
      "\n",
      "\n",
      "\n",
      "\n",
      "\n",
      "\n",
      "\n",
      " 50%|█████     | 5/10 [00:44<00:42,  8.46s/it]\u001b[A\u001b[A\u001b[A\u001b[A\u001b[A\u001b[A\u001b[A"
     ]
    },
    {
     "name": "stdout",
     "output_type": "stream",
     "text": [
      "*** cumulative actv map shape: torch.Size([320, 192, 27, 27])\n",
      "*** cumulative actv map shape: torch.Size([320, 384, 13, 13])\n",
      "*** cumulative actv map shape: torch.Size([320, 256, 13, 13])\n",
      "*** cumulative actv map shape: torch.Size([320, 256, 13, 13])\n",
      "*** cumulative actv map shape: torch.Size([320, 4096])\n",
      "*** cumulative actv map shape: torch.Size([320, 4096])\n",
      "*** cumulative actv map shape: torch.Size([320, 2])\n",
      "*** cumulative actv map shape: torch.Size([384, 64, 55, 55])\n",
      "*** cumulative actv map shape: torch.Size([384, 192, 27, 27])\n",
      "*** cumulative actv map shape: torch.Size([384, 384, 13, 13])\n",
      "*** cumulative actv map shape: torch.Size([384, 256, 13, 13])\n"
     ]
    },
    {
     "name": "stderr",
     "output_type": "stream",
     "text": [
      "\n",
      "\n",
      "\n",
      "\n",
      "\n",
      "\n",
      "\n",
      " 60%|██████    | 6/10 [01:06<00:50, 12.65s/it]\u001b[A\u001b[A\u001b[A\u001b[A\u001b[A\u001b[A\u001b[A"
     ]
    },
    {
     "name": "stdout",
     "output_type": "stream",
     "text": [
      "*** cumulative actv map shape: torch.Size([384, 256, 13, 13])\n",
      "*** cumulative actv map shape: torch.Size([384, 4096])\n",
      "*** cumulative actv map shape: torch.Size([384, 4096])\n",
      "*** cumulative actv map shape: torch.Size([384, 2])\n",
      "*** cumulative actv map shape: torch.Size([448, 64, 55, 55])\n",
      "*** cumulative actv map shape: torch.Size([448, 192, 27, 27])\n",
      "*** cumulative actv map shape: torch.Size([448, 384, 13, 13])\n",
      "*** cumulative actv map shape: torch.Size([448, 256, 13, 13])\n"
     ]
    },
    {
     "name": "stderr",
     "output_type": "stream",
     "text": [
      "\n",
      "\n",
      "\n",
      "\n",
      "\n",
      "\n",
      "\n",
      " 70%|███████   | 7/10 [01:08<00:27,  9.23s/it]\u001b[A\u001b[A\u001b[A\u001b[A\u001b[A\u001b[A\u001b[A"
     ]
    },
    {
     "name": "stdout",
     "output_type": "stream",
     "text": [
      "*** cumulative actv map shape: torch.Size([448, 256, 13, 13])\n",
      "*** cumulative actv map shape: torch.Size([448, 4096])\n",
      "*** cumulative actv map shape: torch.Size([448, 4096])\n",
      "*** cumulative actv map shape: torch.Size([448, 2])\n",
      "*** cumulative actv map shape: torch.Size([512, 64, 55, 55])\n",
      "*** cumulative actv map shape: torch.Size([512, 192, 27, 27])\n",
      "*** cumulative actv map shape: torch.Size([512, 384, 13, 13])\n",
      "*** cumulative actv map shape: torch.Size([512, 256, 13, 13])\n"
     ]
    },
    {
     "name": "stderr",
     "output_type": "stream",
     "text": [
      "\n",
      "\n",
      "\n",
      "\n",
      "\n",
      "\n",
      "\n",
      " 80%|████████  | 8/10 [01:16<00:17,  8.92s/it]\u001b[A\u001b[A\u001b[A\u001b[A\u001b[A\u001b[A\u001b[A"
     ]
    },
    {
     "name": "stdout",
     "output_type": "stream",
     "text": [
      "*** cumulative actv map shape: torch.Size([512, 256, 13, 13])\n",
      "*** cumulative actv map shape: torch.Size([512, 4096])\n",
      "*** cumulative actv map shape: torch.Size([512, 4096])\n",
      "*** cumulative actv map shape: torch.Size([512, 2])\n",
      "*** cumulative actv map shape: torch.Size([576, 64, 55, 55])\n",
      "*** cumulative actv map shape: torch.Size([576, 192, 27, 27])\n",
      "*** cumulative actv map shape: torch.Size([576, 384, 13, 13])\n",
      "*** cumulative actv map shape: torch.Size([576, 256, 13, 13])\n"
     ]
    },
    {
     "name": "stderr",
     "output_type": "stream",
     "text": [
      "\n",
      "\n",
      "\n",
      "\n",
      "\n",
      "\n",
      "\n",
      " 90%|█████████ | 9/10 [01:18<00:06,  6.76s/it]\u001b[A\u001b[A\u001b[A\u001b[A\u001b[A\u001b[A\u001b[A"
     ]
    },
    {
     "name": "stdout",
     "output_type": "stream",
     "text": [
      "*** cumulative actv map shape: torch.Size([576, 256, 13, 13])\n",
      "*** cumulative actv map shape: torch.Size([576, 4096])\n",
      "*** cumulative actv map shape: torch.Size([576, 4096])\n",
      "*** cumulative actv map shape: torch.Size([576, 2])\n",
      "*** cumulative actv map shape: torch.Size([600, 64, 55, 55])\n",
      "*** cumulative actv map shape: torch.Size([600, 192, 27, 27])\n",
      "*** cumulative actv map shape: torch.Size([600, 384, 13, 13])\n",
      "*** cumulative actv map shape: torch.Size([600, 256, 13, 13])\n"
     ]
    },
    {
     "name": "stderr",
     "output_type": "stream",
     "text": [
      "\n",
      "\n",
      "\n",
      "\n",
      "\n",
      "\n",
      "\n",
      "100%|██████████| 10/10 [01:19<00:00,  5.25s/it]\u001b[A\u001b[A\u001b[A\u001b[A\u001b[A\u001b[A\u001b[A\n",
      "\n",
      "\n",
      "\n",
      "\n",
      "\n",
      "\n",
      "\u001b[A\u001b[A\u001b[A\u001b[A\u001b[A\u001b[A\u001b[A"
     ]
    },
    {
     "name": "stdout",
     "output_type": "stream",
     "text": [
      "*** cumulative actv map shape: torch.Size([600, 256, 13, 13])\n",
      "*** cumulative actv map shape: torch.Size([600, 4096])\n",
      "*** cumulative actv map shape: torch.Size([600, 4096])\n",
      "*** cumulative actv map shape: torch.Size([600, 2])\n",
      "evaluation metrics {'loss': -2.9766190830866495, 'overal_acc': 0.7649999856948853, 'topk_acc': 1.0, 'class_acc': [array([0.84679089, 0.42735043])], 'class_auc': [array([0.71978907, 0.71961211])], 'confusion_matrix': [array([[409,  74],\n",
      "       [ 67,  50]])]}\n"
     ]
    },
    {
     "ename": "AttributeError",
     "evalue": "'ExtractActivation' object has no attribute 'save'",
     "output_type": "error",
     "traceback": [
      "\u001b[0;31m---------------------------------------------------------------------------\u001b[0m",
      "\u001b[0;31mAttributeError\u001b[0m                            Traceback (most recent call last)",
      "\u001b[0;32m<ipython-input-48-51b36ca2b6ed>\u001b[0m in \u001b[0;36m<module>\u001b[0;34m\u001b[0m\n\u001b[1;32m      1\u001b[0m \u001b[0mexperiment_saved_path\u001b[0m \u001b[0;34m=\u001b[0m \u001b[0;34m'./saved'\u001b[0m\u001b[0;34m\u001b[0m\u001b[0;34m\u001b[0m\u001b[0m\n\u001b[0;32m----> 2\u001b[0;31m \u001b[0muncty\u001b[0m \u001b[0;34m=\u001b[0m \u001b[0mUncertainty\u001b[0m\u001b[0;34m(\u001b[0m\u001b[0mexperiment_saved_path\u001b[0m\u001b[0;34m)\u001b[0m\u001b[0;34m\u001b[0m\u001b[0;34m\u001b[0m\u001b[0m\n\u001b[0m",
      "\u001b[0;32m/local-scratch/weinaj/pytorch_classification_template/uncertainty.py\u001b[0m in \u001b[0;36m__init__\u001b[0;34m(self, experiment_saved_path, model_path, config_querydata, config_valdata)\u001b[0m\n\u001b[1;32m     63\u001b[0m             \u001b[0mval_actv\u001b[0m \u001b[0;34m=\u001b[0m \u001b[0mExtractActivation\u001b[0m\u001b[0;34m(\u001b[0m\u001b[0mconfig_val\u001b[0m\u001b[0;34m,\u001b[0m \u001b[0mmodel_path\u001b[0m\u001b[0;34m)\u001b[0m\u001b[0;34m\u001b[0m\u001b[0;34m\u001b[0m\u001b[0m\n\u001b[1;32m     64\u001b[0m             \u001b[0mval_actv\u001b[0m\u001b[0;34m.\u001b[0m\u001b[0mextract\u001b[0m\u001b[0;34m(\u001b[0m\u001b[0;34m)\u001b[0m\u001b[0;34m\u001b[0m\u001b[0;34m\u001b[0m\u001b[0m\n\u001b[0;32m---> 65\u001b[0;31m             \u001b[0mval_actv\u001b[0m\u001b[0;34m.\u001b[0m\u001b[0msave\u001b[0m\u001b[0;34m(\u001b[0m\u001b[0msaved_val_path\u001b[0m\u001b[0;34m)\u001b[0m\u001b[0;34m\u001b[0m\u001b[0;34m\u001b[0m\u001b[0m\n\u001b[0m\u001b[1;32m     66\u001b[0m         \u001b[0;31m# instantiate culprit instance\u001b[0m\u001b[0;34m\u001b[0m\u001b[0;34m\u001b[0m\u001b[0;34m\u001b[0m\u001b[0m\n\u001b[1;32m     67\u001b[0m         \u001b[0mself\u001b[0m\u001b[0;34m.\u001b[0m\u001b[0mclpt\u001b[0m \u001b[0;34m=\u001b[0m \u001b[0mCulpritNeuronScore\u001b[0m\u001b[0;34m(\u001b[0m\u001b[0msaved_val_path\u001b[0m\u001b[0;34m)\u001b[0m\u001b[0;34m\u001b[0m\u001b[0;34m\u001b[0m\u001b[0m\n",
      "\u001b[0;31mAttributeError\u001b[0m: 'ExtractActivation' object has no attribute 'save'"
     ]
    }
   ],
   "source": [
    "experiment_saved_path = './saved'\n",
    "uncty = Uncertainty(experiment_saved_path)"
   ]
  },
  {
   "cell_type": "code",
   "execution_count": 19,
   "metadata": {},
   "outputs": [
    {
     "name": "stdout",
     "output_type": "stream",
     "text": [
      "True\n"
     ]
    }
   ],
   "source": [
    "a = None\n",
    "print(a is None)"
   ]
  },
  {
   "cell_type": "code",
   "execution_count": 147,
   "metadata": {},
   "outputs": [],
   "source": [
    "X = np.ones((3,2))\n",
    "Y = np.ones((3,2))+1"
   ]
  },
  {
   "cell_type": "code",
   "execution_count": 148,
   "metadata": {},
   "outputs": [
    {
     "data": {
      "text/plain": [
       "array([[1.41421356, 1.41421356, 1.41421356],\n",
       "       [1.41421356, 1.41421356, 1.41421356],\n",
       "       [1.41421356, 1.41421356, 1.41421356]])"
      ]
     },
     "execution_count": 148,
     "metadata": {},
     "output_type": "execute_result"
    }
   ],
   "source": [
    "pairwise_distances(X,Y)"
   ]
  },
  {
   "cell_type": "code",
   "execution_count": null,
   "metadata": {},
   "outputs": [],
   "source": []
  }
 ],
 "metadata": {
  "kernelspec": {
   "display_name": "Python 3",
   "language": "python",
   "name": "python3"
  },
  "language_info": {
   "codemirror_mode": {
    "name": "ipython",
    "version": 3
   },
   "file_extension": ".py",
   "mimetype": "text/x-python",
   "name": "python",
   "nbconvert_exporter": "python",
   "pygments_lexer": "ipython3",
   "version": "3.6.8"
  }
 },
 "nbformat": 4,
 "nbformat_minor": 2
}
