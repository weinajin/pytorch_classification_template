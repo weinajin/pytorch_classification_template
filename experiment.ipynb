{
 "cells": [
  {
   "cell_type": "markdown",
   "metadata": {},
   "source": [
    "# Experiment pipeline\n",
    "\n",
    "1. load data: in Uncertainty class __init__. Instantiate an Uncertainty instance.\n",
    "    - load trained model\n",
    "    - for the trained model, and its validation set (w/ corresponding activations, predictions, and gt), instantiate a CulpritNeuronScore instance, for further culprit score compute\n",
    "    - load query dataset activations, predictions, gt. (gt is only used for validate the methods, in query time with user, gt is unknown)\n",
    "\n",
    "\n",
    "2. compute culprit matrix for a given trained model: get_culprit_matrix(), get_baseline() for random culprit comparison as baseline.\n",
    "    - specify: model, culprit method\n",
    "    \n",
    "    \n",
    "3. compute uncertain matrix given the culprit mtx, and the query data activations: get_uncertain_matrix()\n",
    "\n",
    "\n",
    "4. visualize the results, compute the correlation between gt error and the uncertain mtx."
   ]
  },
  {
   "cell_type": "code",
   "execution_count": 4,
   "metadata": {},
   "outputs": [],
   "source": [
    "import torch\n",
    "import numpy as np\n",
    "import matplotlib.pyplot as plt\n",
    "from culprit import *\n",
    "from uncertainty import *\n",
    "import json\n",
    "import datetime\n",
    "import csv\n",
    "\n",
    "\n",
    "%load_ext autoreload\n",
    "%autoreload 2"
   ]
  },
  {
   "cell_type": "code",
   "execution_count": 16,
   "metadata": {},
   "outputs": [],
   "source": [
    "os.environ[\"CUDA_VISIBLE_DEVICES\"]= '1'\n",
    "models = ['skinmodel/checkpoint.pth']\n",
    "experiment_saved_path = './saved' # it has the experiment activation maps, and saved exp data as a folder\n",
    "clpt_methods = ['select']\n",
    "sim_methods = ['cosine']#, 'mi']\n",
    "gt_error_methods = ['l1']#, 'ce']\n",
    "model_path = 'skinmodel/checkpoint.pth'"
   ]
  },
  {
   "cell_type": "code",
   "execution_count": 27,
   "metadata": {},
   "outputs": [
    {
     "data": {
      "text/plain": [
       "'skinmodel/checkpoint.pth'"
      ]
     },
     "execution_count": 27,
     "metadata": {},
     "output_type": "execute_result"
    }
   ],
   "source": [
    "model_name = models[0].strip('/')#[-1]#.strip('.')[0]\n",
    "model_name"
   ]
  },
  {
   "cell_type": "code",
   "execution_count": 17,
   "metadata": {},
   "outputs": [],
   "source": [
    "def pipeline(clpt_method, sim_method, gt_error_method, model, \\\n",
    "             experiment_saved_path = './saved', \\\n",
    "             query = 'config_skin_alexnet_query.json', val = 'config_skin_alexnet_val.json', \\\n",
    "             baseline = True):\n",
    "    \n",
    "    # 1. load data: in Uncertainty class init. Instantiate an Uncertainty instance\n",
    "    uncty = Uncertainty(experiment_saved_path, model_path)\n",
    "    gt_error_methods = {'l1': uncty.get_generalize_error, 'ce': uncty.get_generalize_error_ce }\n",
    "    gt, pred = uncty.get_query_gt_pred()\n",
    "    \n",
    "    # 2. compute culprit matrix for a given trained model, get_baseline() for random culprit comparison as baseline.\n",
    "    clpt_mtx = uncty.get_culprit_matrix(clpt_method)\n",
    "    # 3. compute uncertain matrix given the culprit mtx, and the query data activations\n",
    "    uncty_mtx = uncty.get_uncertain_matrix(clpt_mtx, uncty.query_actv, sim_method)\n",
    "    \n",
    "    # 2.1 baseline\n",
    "    bl_clpt_mtx = uncty.get_baseline(clpt_mtx)\n",
    "    bl_uncty_mtx = uncty.get_uncertain_matrix(bl_clpt_mtx, uncty.query_actv, sim_method)\n",
    "    \n",
    "    # 4. prepare for vis\n",
    "    actv_map_shape = uncty.get_actv_shape()\n",
    "    \n",
    "    # save the data as csv for vis\n",
    "    \n",
    "    # visualize the save experiment results\n",
    "    timestamp = datetime.datetime.now().strftime('%m%d_%H%M%S')\n",
    "    model_name = model.stripe('/')[-1].stripe('.')[0]\n",
    "    experiment_saved_subfolder = timestamp + '_' + model_name + '_' + clpt_method + '_' + sim_method + '_' + gt_error_method\n",
    "#         uncty.experiment_results_visualize(gt_error_method, experiment_saved_path, experiment_saved_subfolder)\n",
    "    # interactive vis: select target layer, show correlation with gt\n",
    "\n",
    "    error = gt_error_methods[gt_error_method](gt, pred)\n",
    "    # create subfolder for results saving\n",
    "    subdir = experiment_saved_path + '/' + experiment_saved_subfolder\n",
    "    if not os.path.exists(subdir):\n",
    "        os.mkdir(subdir)\n",
    "    # save bl_uncty_mtx\n",
    "    with open(subdir+\"/\"+\"bl_uncty_mtx.csv\",\"w+\") as my_csv:\n",
    "        csvWriter = csv.writer(my_csv,delimiter=',')\n",
    "        csvWriter.writerows(bl_uncty_mtx)\n",
    "    with open(subdir+\"/\"+\"uncty_mtx.csv\",\"w+\") as my_csv:\n",
    "        csvWriter = csv.writer(my_csv,delimiter=',')\n",
    "        csvWriter.writerows(uncty_mtx)    \n",
    "    with open(subdir+\"/\"+\"gt_error.csv\",\"w+\") as my_csv:\n",
    "        csvWriter = csv.writer(my_csv,delimiter=',')\n",
    "        csvWriter.writerows(error)  \n",
    "#         plt.scatter(error.reshape(-1), uncty_mtx.reshape(-1))\n",
    "#         # vis1. correlation scatter plot\n",
    "#         plt.plot(error.reshape(-1))\n",
    "#         plt.show()\n",
    "#         plt.clf() \n",
    "#         plt.close()\n",
    "#         # vis2. signal plot over datapoints and their classes                 \n",
    "#         plt.plot(uncty_mtx.reshape(-1))\n",
    "#         plt.legend(['gt error', 'proposed_uncertainty'])\n",
    "#         plt.title('the gt error and the proposed uncertainty for the query 150 images')\n",
    "#         plt.show()\n",
    "#         plt.clf() \n",
    "#         plt.close()\n",
    "    return uncty"
   ]
  },
  {
   "cell_type": "code",
   "execution_count": 18,
   "metadata": {},
   "outputs": [
    {
     "name": "stdout",
     "output_type": "stream",
     "text": [
      "*** actv shape (ignore dim 0 - batch size) is: [torch.Size([64, 64, 55, 55]), torch.Size([64, 192, 27, 27]), torch.Size([64, 384, 13, 13]), torch.Size([64, 256, 13, 13]), torch.Size([64, 256, 13, 13]), torch.Size([64, 4096]), torch.Size([64, 4096]), torch.Size([64, 2])] .\n",
      "*** data loaded ***\n",
      "*** Flattened actv vector shape is torch.Size([150, 9346]).\n",
      "*** actv shape (ignore dim 0 - batch size) is: [torch.Size([64, 64, 55, 55]), torch.Size([64, 192, 27, 27]), torch.Size([64, 384, 13, 13]), torch.Size([64, 256, 13, 13]), torch.Size([64, 256, 13, 13]), torch.Size([64, 4096]), torch.Size([64, 4096]), torch.Size([64, 2])] .\n",
      "*** data loaded ***\n",
      "*** label size is torch.Size([600]), right prediction is 459.\n",
      "*** feature shape is torch.Size([600, 9346]).\n",
      "*** right_actv shape is torch.Size([459, 9346]), wrong_actv shape is torch.Size([141, 9346]).\n",
      "*** select method, culprit matrix shape is: (2, 9346)\n"
     ]
    },
    {
     "name": "stderr",
     "output_type": "stream",
     "text": [
      "/local-scratch/weinaj/pytorch_classification_template/culprit.py:149: RuntimeWarning:\n",
      "\n",
      "divide by zero encountered in true_divide\n",
      "\n",
      "/local-scratch/weinaj/pytorch_classification_template/culprit.py:149: RuntimeWarning:\n",
      "\n",
      "invalid value encountered in true_divide\n",
      "\n"
     ]
    },
    {
     "ename": "FileNotFoundError",
     "evalue": "[Errno 2] No such file or directory: './saved/0321_125624_skinmodel/checkpoint.pth_select_cosine_l1'",
     "output_type": "error",
     "traceback": [
      "\u001b[0;31m---------------------------------------------------------------------------\u001b[0m",
      "\u001b[0;31mFileNotFoundError\u001b[0m                         Traceback (most recent call last)",
      "\u001b[0;32m<ipython-input-18-9a3b34a9ba43>\u001b[0m in \u001b[0;36m<module>\u001b[0;34m\u001b[0m\n\u001b[1;32m      4\u001b[0m         \u001b[0;32mfor\u001b[0m \u001b[0msim_method\u001b[0m \u001b[0;32min\u001b[0m \u001b[0msim_methods\u001b[0m\u001b[0;34m:\u001b[0m\u001b[0;34m\u001b[0m\u001b[0;34m\u001b[0m\u001b[0m\n\u001b[1;32m      5\u001b[0m             \u001b[0;32mfor\u001b[0m \u001b[0mgt_error_method\u001b[0m \u001b[0;32min\u001b[0m \u001b[0mgt_error_methods\u001b[0m\u001b[0;34m:\u001b[0m\u001b[0;34m\u001b[0m\u001b[0;34m\u001b[0m\u001b[0m\n\u001b[0;32m----> 6\u001b[0;31m                 \u001b[0muncty\u001b[0m \u001b[0;34m=\u001b[0m \u001b[0mpipeline\u001b[0m\u001b[0;34m(\u001b[0m\u001b[0mclpt_method\u001b[0m\u001b[0;34m,\u001b[0m \u001b[0msim_method\u001b[0m\u001b[0;34m,\u001b[0m \u001b[0mgt_error_method\u001b[0m\u001b[0;34m,\u001b[0m \u001b[0mmodel\u001b[0m\u001b[0;34m)\u001b[0m\u001b[0;34m\u001b[0m\u001b[0;34m\u001b[0m\u001b[0m\n\u001b[0m",
      "\u001b[0;32m<ipython-input-17-1ff4f9548227>\u001b[0m in \u001b[0;36mpipeline\u001b[0;34m(clpt_method, sim_method, gt_error_method, model, experiment_saved_path, query, val, baseline)\u001b[0m\n\u001b[1;32m     33\u001b[0m     \u001b[0msubdir\u001b[0m \u001b[0;34m=\u001b[0m \u001b[0mexperiment_saved_path\u001b[0m \u001b[0;34m+\u001b[0m \u001b[0;34m'/'\u001b[0m \u001b[0;34m+\u001b[0m \u001b[0mexperiment_saved_subfolder\u001b[0m\u001b[0;34m\u001b[0m\u001b[0;34m\u001b[0m\u001b[0m\n\u001b[1;32m     34\u001b[0m     \u001b[0;32mif\u001b[0m \u001b[0;32mnot\u001b[0m \u001b[0mos\u001b[0m\u001b[0;34m.\u001b[0m\u001b[0mpath\u001b[0m\u001b[0;34m.\u001b[0m\u001b[0mexists\u001b[0m\u001b[0;34m(\u001b[0m\u001b[0msubdir\u001b[0m\u001b[0;34m)\u001b[0m\u001b[0;34m:\u001b[0m\u001b[0;34m\u001b[0m\u001b[0;34m\u001b[0m\u001b[0m\n\u001b[0;32m---> 35\u001b[0;31m         \u001b[0mos\u001b[0m\u001b[0;34m.\u001b[0m\u001b[0mmkdir\u001b[0m\u001b[0;34m(\u001b[0m\u001b[0msubdir\u001b[0m\u001b[0;34m)\u001b[0m\u001b[0;34m\u001b[0m\u001b[0;34m\u001b[0m\u001b[0m\n\u001b[0m\u001b[1;32m     36\u001b[0m     \u001b[0;31m# save bl_uncty_mtx\u001b[0m\u001b[0;34m\u001b[0m\u001b[0;34m\u001b[0m\u001b[0;34m\u001b[0m\u001b[0m\n\u001b[1;32m     37\u001b[0m     \u001b[0;32mwith\u001b[0m \u001b[0mopen\u001b[0m\u001b[0;34m(\u001b[0m\u001b[0msubdir\u001b[0m\u001b[0;34m+\u001b[0m\u001b[0;34m\"/\"\u001b[0m\u001b[0;34m+\u001b[0m\u001b[0;34m\"bl_uncty_mtx.csv\"\u001b[0m\u001b[0;34m,\u001b[0m\u001b[0;34m\"w+\"\u001b[0m\u001b[0;34m)\u001b[0m \u001b[0;32mas\u001b[0m \u001b[0mmy_csv\u001b[0m\u001b[0;34m:\u001b[0m\u001b[0;34m\u001b[0m\u001b[0;34m\u001b[0m\u001b[0m\n",
      "\u001b[0;31mFileNotFoundError\u001b[0m: [Errno 2] No such file or directory: './saved/0321_125624_skinmodel/checkpoint.pth_select_cosine_l1'"
     ]
    }
   ],
   "source": [
    "uncty = None\n",
    "for model in models:\n",
    "    for clpt_method in clpt_methods:\n",
    "        for sim_method in sim_methods:\n",
    "            for gt_error_method in gt_error_methods:\n",
    "                uncty = pipeline(clpt_method, sim_method, gt_error_method, model)"
   ]
  },
  {
   "cell_type": "markdown",
   "metadata": {},
   "source": [
    "# use the saved data for results visualization"
   ]
  },
  {
   "cell_type": "code",
   "execution_count": 15,
   "metadata": {},
   "outputs": [],
   "source": [
    "import plotly.plotly as py\n",
    "import plotly.graph_objs as go"
   ]
  },
  {
   "cell_type": "code",
   "execution_count": null,
   "metadata": {},
   "outputs": [],
   "source": []
  }
 ],
 "metadata": {
  "kernelspec": {
   "display_name": "Python 3",
   "language": "python",
   "name": "python3"
  },
  "language_info": {
   "codemirror_mode": {
    "name": "ipython",
    "version": 3
   },
   "file_extension": ".py",
   "mimetype": "text/x-python",
   "name": "python",
   "nbconvert_exporter": "python",
   "pygments_lexer": "ipython3",
   "version": "3.6.8"
  }
 },
 "nbformat": 4,
 "nbformat_minor": 2
}
