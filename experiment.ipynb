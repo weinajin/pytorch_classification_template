{
 "cells": [
  {
   "cell_type": "code",
   "execution_count": 1,
   "metadata": {},
   "outputs": [],
   "source": [
    "import torch\n",
    "import numpy as np\n",
    "\n",
    "%load_ext autoreload\n",
    "%autoreload 2"
   ]
  },
  {
   "cell_type": "markdown",
   "metadata": {},
   "source": [
    "# extract activation map for ISIC 2017 validation set"
   ]
  },
  {
   "cell_type": "raw",
   "metadata": {},
   "source": [
    "%run activation.py --device 1 -c config_skin_alexnet_val.json -r skinmodel/checkpoint.pth"
   ]
  },
  {
   "cell_type": "markdown",
   "metadata": {},
   "source": [
    "# compute culprit score from the activations, predictions, and gt"
   ]
  },
  {
   "cell_type": "code",
   "execution_count": null,
   "metadata": {},
   "outputs": [],
   "source": [
    "from culprit import *\n",
    "import json\n",
    "config = json.load(open('config_skin_alexnet.json'))\n",
    "os.environ[\"CUDA_VISIBLE_DEVICES\"]= '1'\n",
    "resume = 'skinmodel/checkpoint.pth'"
   ]
  },
  {
   "cell_type": "code",
   "execution_count": 2,
   "metadata": {},
   "outputs": [],
   "source": [
    "from uncertainty import *"
   ]
  },
  {
   "cell_type": "code",
   "execution_count": 4,
   "metadata": {
    "scrolled": true
   },
   "outputs": [
    {
     "name": "stdout",
     "output_type": "stream",
     "text": [
      "*** actv shape (ignore dim 0 - batch size) is: [torch.Size([64, 64, 55, 55]), torch.Size([64, 192, 27, 27]), torch.Size([64, 384, 13, 13]), torch.Size([64, 256, 13, 13]), torch.Size([64, 256, 13, 13]), torch.Size([64, 4096]), torch.Size([64, 4096]), torch.Size([64, 2])] .\n",
      "*** data loaded ***\n",
      "*** Flattened actv vector shape is torch.Size([150, 9346]).\n",
      "*** actv shape (ignore dim 0 - batch size) is: [torch.Size([64, 64, 55, 55]), torch.Size([64, 192, 27, 27]), torch.Size([64, 384, 13, 13]), torch.Size([64, 256, 13, 13]), torch.Size([64, 256, 13, 13]), torch.Size([64, 4096]), torch.Size([64, 4096]), torch.Size([64, 2])] .\n",
      "*** data loaded ***\n",
      "*** label size is torch.Size([600]), right prediction is 459.\n",
      "*** feature shape is torch.Size([600, 9346]).\n",
      "*** right_actv shape is torch.Size([459, 9346]), wrong_actv shape is torch.Size([141, 9346]).\n"
     ]
    }
   ],
   "source": [
    "experiment_saved_path = './saved'\n",
    "uncty = Uncertainty(experiment_saved_path)"
   ]
  },
  {
   "cell_type": "code",
   "execution_count": 11,
   "metadata": {},
   "outputs": [
    {
     "data": {
      "text/plain": [
       "(150, 2)"
      ]
     },
     "execution_count": 11,
     "metadata": {},
     "output_type": "execute_result"
    }
   ],
   "source": [
    "uncty.error.shape"
   ]
  },
  {
   "cell_type": "code",
   "execution_count": 14,
   "metadata": {},
   "outputs": [
    {
     "name": "stdout",
     "output_type": "stream",
     "text": [
      "*** x of shape torch.Size([600, 9346]) is normalized column wise. Before normalize, sum of mean and std for each col are: 449.77984619140625, 536.6509399414062. After normalize: nan, nan.\n",
      "*** x of shape torch.Size([600, 9346]) is normalized column wise. Before normalize, sum of mean and std for each col are: 449.77984619140625, 536.6509399414062. After normalize: nan, nan.\n",
      "*** ratio method, culprit matrix shape is: (2, 9346)\n"
     ]
    }
   ],
   "source": [
    "clpt_mtx = uncty.get_culprit_matrix('ratio')"
   ]
  },
  {
   "cell_type": "code",
   "execution_count": 148,
   "metadata": {},
   "outputs": [
    {
     "data": {
      "text/plain": [
       "array([[1.41421356, 1.41421356, 1.41421356],\n",
       "       [1.41421356, 1.41421356, 1.41421356],\n",
       "       [1.41421356, 1.41421356, 1.41421356]])"
      ]
     },
     "execution_count": 148,
     "metadata": {},
     "output_type": "execute_result"
    }
   ],
   "source": [
    "sim_method = 'cosine'\n",
    "uncty.get_uncertain_matrix(clpt_mtx, uncty.query_actv_map, sim_method)     "
   ]
  },
  {
   "cell_type": "code",
   "execution_count": null,
   "metadata": {},
   "outputs": [],
   "source": []
  }
 ],
 "metadata": {
  "kernelspec": {
   "display_name": "Python 3",
   "language": "python",
   "name": "python3"
  },
  "language_info": {
   "codemirror_mode": {
    "name": "ipython",
    "version": 3
   },
   "file_extension": ".py",
   "mimetype": "text/x-python",
   "name": "python",
   "nbconvert_exporter": "python",
   "pygments_lexer": "ipython3",
   "version": "3.6.8"
  }
 },
 "nbformat": 4,
 "nbformat_minor": 2
}
