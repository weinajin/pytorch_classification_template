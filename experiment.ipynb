{
 "cells": [
  {
   "cell_type": "code",
   "execution_count": 5,
   "metadata": {},
   "outputs": [],
   "source": [
    "import torch\n",
    "import numpy as np\n",
    "\n",
    "%load_ext autoreload\n",
    "%autoreload 2"
   ]
  },
  {
   "cell_type": "markdown",
   "metadata": {},
   "source": [
    "# extract activation map for ISIC 2017 validation set"
   ]
  },
  {
   "cell_type": "raw",
   "metadata": {},
   "source": [
    "%run activation.py --device 1 -c config_skin_alexnet_val.json -r skinmodel/checkpoint.pth"
   ]
  },
  {
   "cell_type": "markdown",
   "metadata": {},
   "source": [
    "# compute culprit score from the activations, predictions, and gt"
   ]
  },
  {
   "cell_type": "code",
   "execution_count": null,
   "metadata": {},
   "outputs": [],
   "source": [
    "from culprit import *\n",
    "import json\n",
    "config = json.load(open('config_skin_alexnet.json'))\n",
    "os.environ[\"CUDA_VISIBLE_DEVICES\"]= '1'\n",
    "resume = 'skinmodel/checkpoint.pth'"
   ]
  },
  {
   "cell_type": "code",
   "execution_count": 6,
   "metadata": {},
   "outputs": [],
   "source": [
    "from uncertainty import *"
   ]
  },
  {
   "cell_type": "code",
   "execution_count": 49,
   "metadata": {
    "scrolled": true
   },
   "outputs": [
    {
     "name": "stdout",
     "output_type": "stream",
     "text": [
      "*** actv shape (ignore dim 0 - batch size) is: [torch.Size([64, 64, 55, 55]), torch.Size([64, 192, 27, 27]), torch.Size([64, 384, 13, 13]), torch.Size([64, 256, 13, 13]), torch.Size([64, 256, 13, 13]), torch.Size([64, 4096]), torch.Size([64, 4096]), torch.Size([64, 2])] .\n",
      "*** data loaded ***\n",
      "*** Flattened actv vector shape is torch.Size([150, 9346]).\n"
     ]
    },
    {
     "name": "stderr",
     "output_type": "stream",
     "text": [
      "\n",
      "\n",
      "\n",
      "\n",
      "\n",
      "\n",
      "\n",
      "  0%|          | 0/10 [00:00<?, ?it/s]\u001b[A\u001b[A\u001b[A\u001b[A\u001b[A\u001b[A\u001b[AException ignored in: <bound method _DataLoaderIter.__del__ of <torch.utils.data.dataloader._DataLoaderIter object at 0x7f1d82acd5c0>>\n",
      "Traceback (most recent call last):\n",
      "  File \"/local-scratch/weinaj/anaconda3/envs/pt10/lib/python3.6/site-packages/torch/utils/data/dataloader.py\", line 717, in __del__\n",
      "    self._shutdown_workers()\n",
      "  File \"/local-scratch/weinaj/anaconda3/envs/pt10/lib/python3.6/site-packages/torch/utils/data/dataloader.py\", line 713, in _shutdown_workers\n",
      "    w.join()\n",
      "  File \"/local-scratch/weinaj/anaconda3/envs/pt10/lib/python3.6/multiprocessing/process.py\", line 122, in join\n",
      "    assert self._parent_pid == os.getpid(), 'can only join a child process'\n",
      "AssertionError: can only join a child process\n",
      "Exception ignored in: <bound method _DataLoaderIter.__del__ of <torch.utils.data.dataloader._DataLoaderIter object at 0x7f1d82aae5c0>>\n",
      "Exception ignored in: <bound method _DataLoaderIter.__del__ of <torch.utils.data.dataloader._DataLoaderIter object at 0x7f1d82acd5c0>>\n",
      "Traceback (most recent call last):\n",
      "Traceback (most recent call last):\n",
      "  File \"/local-scratch/weinaj/anaconda3/envs/pt10/lib/python3.6/site-packages/torch/utils/data/dataloader.py\", line 717, in __del__\n",
      "  File \"/local-scratch/weinaj/anaconda3/envs/pt10/lib/python3.6/site-packages/torch/utils/data/dataloader.py\", line 717, in __del__\n",
      "    self._shutdown_workers()\n",
      "    self._shutdown_workers()\n",
      "  File \"/local-scratch/weinaj/anaconda3/envs/pt10/lib/python3.6/site-packages/torch/utils/data/dataloader.py\", line 713, in _shutdown_workers\n",
      "  File \"/local-scratch/weinaj/anaconda3/envs/pt10/lib/python3.6/site-packages/torch/utils/data/dataloader.py\", line 713, in _shutdown_workers\n",
      "    w.join()\n",
      "    w.join()\n",
      "  File \"/local-scratch/weinaj/anaconda3/envs/pt10/lib/python3.6/multiprocessing/process.py\", line 122, in join\n",
      "  File \"/local-scratch/weinaj/anaconda3/envs/pt10/lib/python3.6/multiprocessing/process.py\", line 122, in join\n",
      "    assert self._parent_pid == os.getpid(), 'can only join a child process'\n",
      "    assert self._parent_pid == os.getpid(), 'can only join a child process'\n",
      "AssertionError: can only join a child process\n",
      "AssertionError: can only join a child process\n",
      "Exception ignored in: <bound method _DataLoaderIter.__del__ of <torch.utils.data.dataloader._DataLoaderIter object at 0x7f1d82aae5c0>>\n",
      "Exception ignored in: <bound method _DataLoaderIter.__del__ of <torch.utils.data.dataloader._DataLoaderIter object at 0x7f1d77181c50>>\n",
      "Traceback (most recent call last):\n",
      "Traceback (most recent call last):\n",
      "  File \"/local-scratch/weinaj/anaconda3/envs/pt10/lib/python3.6/site-packages/torch/utils/data/dataloader.py\", line 717, in __del__\n",
      "  File \"/local-scratch/weinaj/anaconda3/envs/pt10/lib/python3.6/site-packages/torch/utils/data/dataloader.py\", line 717, in __del__\n",
      "    self._shutdown_workers()\n",
      "    self._shutdown_workers()\n",
      "  File \"/local-scratch/weinaj/anaconda3/envs/pt10/lib/python3.6/site-packages/torch/utils/data/dataloader.py\", line 713, in _shutdown_workers\n",
      "  File \"/local-scratch/weinaj/anaconda3/envs/pt10/lib/python3.6/site-packages/torch/utils/data/dataloader.py\", line 713, in _shutdown_workers\n",
      "    w.join()\n",
      "    w.join()\n",
      "  File \"/local-scratch/weinaj/anaconda3/envs/pt10/lib/python3.6/multiprocessing/process.py\", line 122, in join\n",
      "    assert self._parent_pid == os.getpid(), 'can only join a child process'\n",
      "  File \"/local-scratch/weinaj/anaconda3/envs/pt10/lib/python3.6/multiprocessing/process.py\", line 122, in join\n",
      "AssertionError: can only join a child process\n",
      "    assert self._parent_pid == os.getpid(), 'can only join a child process'\n",
      "AssertionError: can only join a child process\n",
      "Exception ignored in: <bound method _DataLoaderIter.__del__ of <torch.utils.data.dataloader._DataLoaderIter object at 0x7f1d77181c50>>\n",
      "Traceback (most recent call last):\n",
      "  File \"/local-scratch/weinaj/anaconda3/envs/pt10/lib/python3.6/site-packages/torch/utils/data/dataloader.py\", line 717, in __del__\n",
      "    self._shutdown_workers()\n",
      "  File \"/local-scratch/weinaj/anaconda3/envs/pt10/lib/python3.6/site-packages/torch/utils/data/dataloader.py\", line 713, in _shutdown_workers\n",
      "    w.join()\n",
      "  File \"/local-scratch/weinaj/anaconda3/envs/pt10/lib/python3.6/multiprocessing/process.py\", line 122, in join\n",
      "    assert self._parent_pid == os.getpid(), 'can only join a child process'\n",
      "AssertionError: can only join a child process\n",
      "\n",
      "\n",
      "\n",
      "\n",
      "\n",
      "\n",
      "\n",
      " 10%|█         | 1/10 [00:09<01:21,  9.08s/it]\u001b[A\u001b[A\u001b[A\u001b[A\u001b[A\u001b[A\u001b[A"
     ]
    },
    {
     "name": "stdout",
     "output_type": "stream",
     "text": [
      "*** cumulative actv map shape: torch.Size([64, 64, 55, 55])\n",
      "*** cumulative actv map shape: torch.Size([64, 192, 27, 27])\n",
      "*** cumulative actv map shape: torch.Size([64, 384, 13, 13])\n",
      "*** cumulative actv map shape: torch.Size([64, 256, 13, 13])\n",
      "*** cumulative actv map shape: torch.Size([64, 256, 13, 13])\n",
      "*** cumulative actv map shape: torch.Size([64, 4096])\n",
      "*** cumulative actv map shape: torch.Size([64, 4096])\n",
      "*** cumulative actv map shape: torch.Size([64, 2])\n"
     ]
    },
    {
     "name": "stderr",
     "output_type": "stream",
     "text": [
      "\n",
      "\n",
      "\n",
      "\n",
      "\n",
      "\n",
      "\n",
      " 20%|██        | 2/10 [00:17<01:11,  8.99s/it]\u001b[A\u001b[A\u001b[A\u001b[A\u001b[A\u001b[A\u001b[A"
     ]
    },
    {
     "name": "stdout",
     "output_type": "stream",
     "text": [
      "*** cumulative actv map shape: torch.Size([128, 64, 55, 55])\n",
      "*** cumulative actv map shape: torch.Size([128, 192, 27, 27])\n",
      "*** cumulative actv map shape: torch.Size([128, 384, 13, 13])\n",
      "*** cumulative actv map shape: torch.Size([128, 256, 13, 13])\n",
      "*** cumulative actv map shape: torch.Size([128, 256, 13, 13])\n",
      "*** cumulative actv map shape: torch.Size([128, 4096])\n",
      "*** cumulative actv map shape: torch.Size([128, 4096])\n",
      "*** cumulative actv map shape: torch.Size([128, 2])\n"
     ]
    },
    {
     "name": "stderr",
     "output_type": "stream",
     "text": [
      "\n",
      "\n",
      "\n",
      "\n",
      "\n",
      "\n",
      "\n",
      " 30%|███       | 3/10 [00:22<00:53,  7.69s/it]\u001b[A\u001b[A\u001b[A\u001b[A\u001b[A\u001b[A\u001b[A"
     ]
    },
    {
     "name": "stdout",
     "output_type": "stream",
     "text": [
      "*** cumulative actv map shape: torch.Size([192, 64, 55, 55])\n",
      "*** cumulative actv map shape: torch.Size([192, 192, 27, 27])\n",
      "*** cumulative actv map shape: torch.Size([192, 384, 13, 13])\n",
      "*** cumulative actv map shape: torch.Size([192, 256, 13, 13])\n",
      "*** cumulative actv map shape: torch.Size([192, 256, 13, 13])\n",
      "*** cumulative actv map shape: torch.Size([192, 4096])\n",
      "*** cumulative actv map shape: torch.Size([192, 4096])\n",
      "*** cumulative actv map shape: torch.Size([192, 2])\n",
      "*** cumulative actv map shape: torch.Size([256, 64, 55, 55])\n"
     ]
    },
    {
     "name": "stderr",
     "output_type": "stream",
     "text": [
      "\n",
      "\n",
      "\n",
      "\n",
      "\n",
      "\n",
      "\n",
      " 40%|████      | 4/10 [00:40<01:05, 10.93s/it]\u001b[A\u001b[A\u001b[A\u001b[A\u001b[A\u001b[A\u001b[A"
     ]
    },
    {
     "name": "stdout",
     "output_type": "stream",
     "text": [
      "*** cumulative actv map shape: torch.Size([256, 192, 27, 27])\n",
      "*** cumulative actv map shape: torch.Size([256, 384, 13, 13])\n",
      "*** cumulative actv map shape: torch.Size([256, 256, 13, 13])\n",
      "*** cumulative actv map shape: torch.Size([256, 256, 13, 13])\n",
      "*** cumulative actv map shape: torch.Size([256, 4096])\n",
      "*** cumulative actv map shape: torch.Size([256, 4096])\n",
      "*** cumulative actv map shape: torch.Size([256, 2])\n",
      "*** cumulative actv map shape: torch.Size([320, 64, 55, 55])\n"
     ]
    },
    {
     "name": "stderr",
     "output_type": "stream",
     "text": [
      "\n",
      "\n",
      "\n",
      "\n",
      "\n",
      "\n",
      "\n",
      " 50%|█████     | 5/10 [00:46<00:46,  9.35s/it]\u001b[A\u001b[A\u001b[A\u001b[A\u001b[A\u001b[A\u001b[A"
     ]
    },
    {
     "name": "stdout",
     "output_type": "stream",
     "text": [
      "*** cumulative actv map shape: torch.Size([320, 192, 27, 27])\n",
      "*** cumulative actv map shape: torch.Size([320, 384, 13, 13])\n",
      "*** cumulative actv map shape: torch.Size([320, 256, 13, 13])\n",
      "*** cumulative actv map shape: torch.Size([320, 256, 13, 13])\n",
      "*** cumulative actv map shape: torch.Size([320, 4096])\n",
      "*** cumulative actv map shape: torch.Size([320, 4096])\n",
      "*** cumulative actv map shape: torch.Size([320, 2])\n",
      "*** cumulative actv map shape: torch.Size([384, 64, 55, 55])\n",
      "*** cumulative actv map shape: torch.Size([384, 192, 27, 27])\n",
      "*** cumulative actv map shape: torch.Size([384, 384, 13, 13])\n",
      "*** cumulative actv map shape: torch.Size([384, 256, 13, 13])\n"
     ]
    },
    {
     "name": "stderr",
     "output_type": "stream",
     "text": [
      "\n",
      "\n",
      "\n",
      "\n",
      "\n",
      "\n",
      "\n",
      " 60%|██████    | 6/10 [01:03<00:46, 11.61s/it]\u001b[A\u001b[A\u001b[A\u001b[A\u001b[A\u001b[A\u001b[A"
     ]
    },
    {
     "name": "stdout",
     "output_type": "stream",
     "text": [
      "*** cumulative actv map shape: torch.Size([384, 256, 13, 13])\n",
      "*** cumulative actv map shape: torch.Size([384, 4096])\n",
      "*** cumulative actv map shape: torch.Size([384, 4096])\n",
      "*** cumulative actv map shape: torch.Size([384, 2])\n",
      "*** cumulative actv map shape: torch.Size([448, 64, 55, 55])\n",
      "*** cumulative actv map shape: torch.Size([448, 192, 27, 27])\n",
      "*** cumulative actv map shape: torch.Size([448, 384, 13, 13])\n",
      "*** cumulative actv map shape: torch.Size([448, 256, 13, 13])\n"
     ]
    },
    {
     "name": "stderr",
     "output_type": "stream",
     "text": [
      "\n",
      "\n",
      "\n",
      "\n",
      "\n",
      "\n",
      "\n",
      " 70%|███████   | 7/10 [01:04<00:25,  8.40s/it]\u001b[A\u001b[A\u001b[A\u001b[A\u001b[A\u001b[A\u001b[A"
     ]
    },
    {
     "name": "stdout",
     "output_type": "stream",
     "text": [
      "*** cumulative actv map shape: torch.Size([448, 256, 13, 13])\n",
      "*** cumulative actv map shape: torch.Size([448, 4096])\n",
      "*** cumulative actv map shape: torch.Size([448, 4096])\n",
      "*** cumulative actv map shape: torch.Size([448, 2])\n",
      "*** cumulative actv map shape: torch.Size([512, 64, 55, 55])\n",
      "*** cumulative actv map shape: torch.Size([512, 192, 27, 27])\n",
      "*** cumulative actv map shape: torch.Size([512, 384, 13, 13])\n"
     ]
    },
    {
     "name": "stderr",
     "output_type": "stream",
     "text": [
      "\n",
      "\n",
      "\n",
      "\n",
      "\n",
      "\n",
      "\n",
      " 80%|████████  | 8/10 [01:12<00:16,  8.28s/it]\u001b[A\u001b[A\u001b[A\u001b[A\u001b[A\u001b[A\u001b[A"
     ]
    },
    {
     "name": "stdout",
     "output_type": "stream",
     "text": [
      "*** cumulative actv map shape: torch.Size([512, 256, 13, 13])\n",
      "*** cumulative actv map shape: torch.Size([512, 256, 13, 13])\n",
      "*** cumulative actv map shape: torch.Size([512, 4096])\n",
      "*** cumulative actv map shape: torch.Size([512, 4096])\n",
      "*** cumulative actv map shape: torch.Size([512, 2])\n",
      "*** cumulative actv map shape: torch.Size([576, 64, 55, 55])\n",
      "*** cumulative actv map shape: torch.Size([576, 192, 27, 27])\n",
      "*** cumulative actv map shape: torch.Size([576, 384, 13, 13])\n"
     ]
    },
    {
     "name": "stderr",
     "output_type": "stream",
     "text": [
      "\n",
      "\n",
      "\n",
      "\n",
      "\n",
      "\n",
      "\n",
      " 90%|█████████ | 9/10 [01:13<00:06,  6.17s/it]\u001b[A\u001b[A\u001b[A\u001b[A\u001b[A\u001b[A\u001b[A"
     ]
    },
    {
     "name": "stdout",
     "output_type": "stream",
     "text": [
      "*** cumulative actv map shape: torch.Size([576, 256, 13, 13])\n",
      "*** cumulative actv map shape: torch.Size([576, 256, 13, 13])\n",
      "*** cumulative actv map shape: torch.Size([576, 4096])\n",
      "*** cumulative actv map shape: torch.Size([576, 4096])\n",
      "*** cumulative actv map shape: torch.Size([576, 2])\n",
      "*** cumulative actv map shape: torch.Size([600, 64, 55, 55])\n",
      "*** cumulative actv map shape: torch.Size([600, 192, 27, 27])\n",
      "*** cumulative actv map shape: torch.Size([600, 384, 13, 13])\n"
     ]
    },
    {
     "name": "stderr",
     "output_type": "stream",
     "text": [
      "\n",
      "\n",
      "\n",
      "\n",
      "\n",
      "\n",
      "\n",
      "100%|██████████| 10/10 [01:14<00:00,  4.70s/it]\u001b[A\u001b[A\u001b[A\u001b[A\u001b[A\u001b[A\u001b[A"
     ]
    },
    {
     "name": "stdout",
     "output_type": "stream",
     "text": [
      "*** cumulative actv map shape: torch.Size([600, 256, 13, 13])\n",
      "*** cumulative actv map shape: torch.Size([600, 256, 13, 13])\n",
      "*** cumulative actv map shape: torch.Size([600, 4096])\n",
      "*** cumulative actv map shape: torch.Size([600, 4096])\n",
      "*** cumulative actv map shape: torch.Size([600, 2])\n"
     ]
    },
    {
     "name": "stderr",
     "output_type": "stream",
     "text": [
      "\n",
      "\n",
      "\n",
      "\n",
      "\n",
      "\n",
      "\n",
      "\u001b[A\u001b[A\u001b[A\u001b[A\u001b[A\u001b[A\u001b[A"
     ]
    },
    {
     "name": "stdout",
     "output_type": "stream",
     "text": [
      "evaluation metrics {'loss': -2.9766190830866495, 'overal_acc': 0.7649999856948853, 'topk_acc': 1.0, 'class_acc': [array([0.84679089, 0.42735043])], 'class_auc': [array([0.71978907, 0.71961211])], 'confusion_matrix': [array([[409,  74],\n",
      "       [ 67,  50]])]}\n",
      "*** activation data saved ***\n",
      "*** actv shape (ignore dim 0 - batch size) is: [torch.Size([64, 64, 55, 55]), torch.Size([64, 192, 27, 27]), torch.Size([64, 384, 13, 13]), torch.Size([64, 256, 13, 13]), torch.Size([64, 256, 13, 13]), torch.Size([64, 4096]), torch.Size([64, 4096]), torch.Size([64, 2])] .\n",
      "*** data loaded ***\n",
      "*** label size is torch.Size([600]), right prediction is 459.\n",
      "*** feature shape is torch.Size([600, 9346]).\n",
      "*** right_actv shape is torch.Size([459, 9346]), wrong_actv shape is torch.Size([141, 9346]).\n"
     ]
    }
   ],
   "source": [
    "experiment_saved_path = './saved'\n",
    "uncty = Uncertainty(experiment_saved_path)"
   ]
  },
  {
   "cell_type": "code",
   "execution_count": 19,
   "metadata": {},
   "outputs": [
    {
     "name": "stdout",
     "output_type": "stream",
     "text": [
      "True\n"
     ]
    }
   ],
   "source": [
    "a = None\n",
    "print(a is None)"
   ]
  },
  {
   "cell_type": "code",
   "execution_count": 147,
   "metadata": {},
   "outputs": [],
   "source": [
    "X = np.ones((3,2))\n",
    "Y = np.ones((3,2))+1"
   ]
  },
  {
   "cell_type": "code",
   "execution_count": 148,
   "metadata": {},
   "outputs": [
    {
     "data": {
      "text/plain": [
       "array([[1.41421356, 1.41421356, 1.41421356],\n",
       "       [1.41421356, 1.41421356, 1.41421356],\n",
       "       [1.41421356, 1.41421356, 1.41421356]])"
      ]
     },
     "execution_count": 148,
     "metadata": {},
     "output_type": "execute_result"
    }
   ],
   "source": [
    "pairwise_distances(X,Y)"
   ]
  },
  {
   "cell_type": "code",
   "execution_count": null,
   "metadata": {},
   "outputs": [],
   "source": []
  }
 ],
 "metadata": {
  "kernelspec": {
   "display_name": "Python 3",
   "language": "python",
   "name": "python3"
  },
  "language_info": {
   "codemirror_mode": {
    "name": "ipython",
    "version": 3
   },
   "file_extension": ".py",
   "mimetype": "text/x-python",
   "name": "python",
   "nbconvert_exporter": "python",
   "pygments_lexer": "ipython3",
   "version": "3.6.8"
  }
 },
 "nbformat": 4,
 "nbformat_minor": 2
}
