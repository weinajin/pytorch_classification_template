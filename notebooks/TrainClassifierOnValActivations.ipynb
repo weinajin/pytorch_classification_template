{
 "cells": [
  {
   "cell_type": "code",
   "execution_count": 1,
   "metadata": {},
   "outputs": [],
   "source": [
    "import pickle\n",
    "import os\n",
    "import matplotlib.pyplot as plt\n",
    "import glob\n",
    "import torch\n",
    "import torch.nn as nn"
   ]
  },
  {
   "cell_type": "code",
   "execution_count": 2,
   "metadata": {},
   "outputs": [],
   "source": [
    "join = os.path.join\n",
    "base_path = \"/home/anmol/projects/pytorch_classification_template/datafolder/saved\""
   ]
  },
  {
   "cell_type": "code",
   "execution_count": 3,
   "metadata": {},
   "outputs": [],
   "source": [
    "query_path = join(base_path, \"query_actv\")\n",
    "val_path = join(base_path, \"val_actv\")"
   ]
  },
  {
   "cell_type": "code",
   "execution_count": 4,
   "metadata": {},
   "outputs": [],
   "source": [
    "for file in glob.glob(join(query_path, \"*\")):\n",
    "    if \"activationMap.pkl\" in file:\n",
    "        query_act = pickle.load(open(file, 'rb'))\n",
    "    elif \"gt.pkl\" in file:\n",
    "        gt_q = pickle.load(open(file, 'rb'))\n",
    "    elif 'pred.pkl' in file:\n",
    "        pred_q = pickle.load(open(file, 'rb'))\n",
    "    else:\n",
    "        shape_q = pickle.load(open(file, 'rb'))\n",
    "        \n",
    "for file in glob.glob(join(val_path, \"*\")):\n",
    "    if \"activationMap.pkl\" in file:\n",
    "        val_act = pickle.load(open(file, 'rb'))\n",
    "    elif \"gt.pkl\" in file:\n",
    "        gt_v = pickle.load(open(file, 'rb'))\n",
    "    elif 'pred.pkl' in file:\n",
    "        pred_v = pickle.load(open(file, 'rb'))\n",
    "    else:\n",
    "        shape_v = pickle.load(open(file, 'rb'))"
   ]
  },
  {
   "cell_type": "code",
   "execution_count": 5,
   "metadata": {},
   "outputs": [],
   "source": [
    "def flatten(t):\n",
    "    t = t.reshape(1, -1)\n",
    "    t = t.squeeze()\n",
    "    return t"
   ]
  },
  {
   "cell_type": "code",
   "execution_count": 6,
   "metadata": {},
   "outputs": [
    {
     "data": {
      "text/plain": [
       "[torch.Size([64, 64, 55, 55]),\n",
       " torch.Size([64, 192, 27, 27]),\n",
       " torch.Size([64, 384, 13, 13]),\n",
       " torch.Size([64, 256, 13, 13]),\n",
       " torch.Size([64, 256, 13, 13]),\n",
       " torch.Size([64, 4096]),\n",
       " torch.Size([64, 4096]),\n",
       " torch.Size([64, 2])]"
      ]
     },
     "execution_count": 6,
     "metadata": {},
     "output_type": "execute_result"
    }
   ],
   "source": [
    "shape_v"
   ]
  },
  {
   "cell_type": "code",
   "execution_count": 7,
   "metadata": {},
   "outputs": [
    {
     "data": {
      "text/plain": [
       "torch.Size([600, 256, 13, 13])"
      ]
     },
     "execution_count": 7,
     "metadata": {},
     "output_type": "execute_result"
    }
   ],
   "source": [
    "val_act[3].shape"
   ]
  },
  {
   "cell_type": "code",
   "execution_count": 8,
   "metadata": {},
   "outputs": [],
   "source": [
    "val_im_act_matrix = torch.zeros([600, 204864], dtype=torch.float32)\n",
    "\n",
    "for im in range(0, 600):\n",
    "    for k in range(1, 3):\n",
    "        # 139968 + 64896\n",
    "        if k == 1:\n",
    "            val_im_act_matrix[im, 0:139968] = flatten(val_act[k][im,...])\n",
    "        elif k == 2:\n",
    "            val_im_act_matrix[im, 139968:] = flatten(val_act[k][im,...])"
   ]
  },
  {
   "cell_type": "markdown",
   "metadata": {},
   "source": [
    "We now have a matrix with rows M = number of validation images, and columns N = number of neurons (total 204864 for 2 conv layers)"
   ]
  },
  {
   "cell_type": "code",
   "execution_count": 9,
   "metadata": {},
   "outputs": [
    {
     "data": {
      "text/plain": [
       "torch.Size([600, 204864])"
      ]
     },
     "execution_count": 9,
     "metadata": {},
     "output_type": "execute_result"
    }
   ],
   "source": [
    "val_im_act_matrix.shape"
   ]
  },
  {
   "cell_type": "code",
   "execution_count": 10,
   "metadata": {},
   "outputs": [
    {
     "data": {
      "text/plain": [
       "torch.Size([600])"
      ]
     },
     "execution_count": 10,
     "metadata": {},
     "output_type": "execute_result"
    }
   ],
   "source": [
    "gt_v.shape"
   ]
  },
  {
   "cell_type": "code",
   "execution_count": 11,
   "metadata": {},
   "outputs": [
    {
     "data": {
      "text/plain": [
       "torch.Size([600, 2])"
      ]
     },
     "execution_count": 11,
     "metadata": {},
     "output_type": "execute_result"
    }
   ],
   "source": [
    "pred_v.shape"
   ]
  },
  {
   "cell_type": "markdown",
   "metadata": {},
   "source": [
    "The predictions are NOT SOFTMAX probabilities, so convert them"
   ]
  },
  {
   "cell_type": "code",
   "execution_count": 12,
   "metadata": {},
   "outputs": [
    {
     "name": "stderr",
     "output_type": "stream",
     "text": [
      "/home/anmol/softwares/anaconda3/envs/pt10/lib/python3.6/site-packages/ipykernel_launcher.py:2: UserWarning: Implicit dimension choice for softmax has been deprecated. Change the call to include dim=X as an argument.\n",
      "  \n"
     ]
    }
   ],
   "source": [
    "softmax = nn.Softmax()\n",
    "pred_v = softmax(pred_v)"
   ]
  },
  {
   "cell_type": "markdown",
   "metadata": {},
   "source": [
    "Convert the prediction probabilities to class labels"
   ]
  },
  {
   "cell_type": "code",
   "execution_count": 13,
   "metadata": {},
   "outputs": [],
   "source": [
    "_, pred_v_cl = torch.max(pred_v, 1)"
   ]
  },
  {
   "cell_type": "markdown",
   "metadata": {},
   "source": [
    "Get the correct and incorrect prediction \"ground truth\". This ground truth will contain -1 if the image was incorrectly predicted, and +1 if it was correctly predicted. "
   ]
  },
  {
   "cell_type": "code",
   "execution_count": 14,
   "metadata": {},
   "outputs": [],
   "source": [
    "new_gt_for_training = torch.ones([pred_v.shape[0]], dtype=torch.int32)\n",
    "correct = incorrect = 0\n",
    "for i in range(0, pred_v.shape[0]):\n",
    "    if pred_v_cl[i] != gt_v[i]:\n",
    "        incorrect += 1\n",
    "        new_gt_for_training[i] = -1\n",
    "    else:\n",
    "        correct += 1\n",
    "        new_gt_for_training[i] = 1"
   ]
  },
  {
   "cell_type": "code",
   "execution_count": 15,
   "metadata": {},
   "outputs": [
    {
     "name": "stdout",
     "output_type": "stream",
     "text": [
      "Correct predictions = 459, incorrect predictions = 141\n"
     ]
    }
   ],
   "source": [
    "print(\"Correct predictions = {}, incorrect predictions = {}\".format(correct, incorrect))"
   ]
  },
  {
   "cell_type": "markdown",
   "metadata": {},
   "source": [
    "Convert these tensors to numpy for compatibility with sklearn"
   ]
  },
  {
   "cell_type": "code",
   "execution_count": 16,
   "metadata": {},
   "outputs": [],
   "source": [
    "X = val_im_act_matrix.numpy()\n",
    "Y = new_gt_for_training.numpy()"
   ]
  },
  {
   "cell_type": "markdown",
   "metadata": {},
   "source": [
    "We  have the training data now. X and Y. Let's do some machine learning"
   ]
  },
  {
   "cell_type": "code",
   "execution_count": 17,
   "metadata": {},
   "outputs": [
    {
     "data": {
      "text/plain": [
       "(600, 204864)"
      ]
     },
     "execution_count": 17,
     "metadata": {},
     "output_type": "execute_result"
    }
   ],
   "source": [
    "X.shape"
   ]
  },
  {
   "cell_type": "code",
   "execution_count": 18,
   "metadata": {},
   "outputs": [
    {
     "data": {
      "text/plain": [
       "(600,)"
      ]
     },
     "execution_count": 18,
     "metadata": {},
     "output_type": "execute_result"
    }
   ],
   "source": [
    "Y.shape"
   ]
  },
  {
   "cell_type": "code",
   "execution_count": 19,
   "metadata": {},
   "outputs": [],
   "source": [
    "from sklearn import svm\n",
    "from sklearn.model_selection import GridSearchCV\n",
    "parameters = {'kernel':('linear', 'rbf'), 'C':[1, 10]}\n",
    "clf = svm.SVC(C=1, kernel='rbf', gamma=\"scale\", verbose=5, probability=True)\n",
    "# clf = GridSearchCV(clf, parameters,  n_jobs=-1, verbose=5, cv=4)"
   ]
  },
  {
   "cell_type": "code",
   "execution_count": 20,
   "metadata": {},
   "outputs": [
    {
     "name": "stdout",
     "output_type": "stream",
     "text": [
      "[LibSVM]"
     ]
    },
    {
     "data": {
      "text/plain": [
       "SVC(C=1, cache_size=200, class_weight=None, coef0=0.0,\n",
       "  decision_function_shape='ovr', degree=3, gamma='scale', kernel='rbf',\n",
       "  max_iter=-1, probability=True, random_state=None, shrinking=True,\n",
       "  tol=0.001, verbose=5)"
      ]
     },
     "execution_count": 20,
     "metadata": {},
     "output_type": "execute_result"
    }
   ],
   "source": [
    "clf.fit(X, Y)"
   ]
  },
  {
   "cell_type": "markdown",
   "metadata": {},
   "source": [
    "Now let's test our trained model and see if it can figure out whether a query image was correctly or incorrectly classified"
   ]
  },
  {
   "cell_type": "code",
   "execution_count": 21,
   "metadata": {},
   "outputs": [
    {
     "data": {
      "text/plain": [
       "150"
      ]
     },
     "execution_count": 21,
     "metadata": {},
     "output_type": "execute_result"
    }
   ],
   "source": [
    "query_act[0].shape[0]"
   ]
  },
  {
   "cell_type": "code",
   "execution_count": 22,
   "metadata": {},
   "outputs": [],
   "source": [
    "q_im_act_matrix = torch.zeros([query_act[0].shape[0], 204864], dtype=torch.float32)\n",
    "\n",
    "for im in range(0, query_act[0].shape[0]):\n",
    "    for k in range(1, 3):\n",
    "        # 139968 + 64896\n",
    "        if k == 1:\n",
    "            q_im_act_matrix[im, 0:139968] = flatten(query_act[k][im,...])\n",
    "        elif k == 2:\n",
    "            q_im_act_matrix[im, 139968:] = flatten(query_act[k][im,...])"
   ]
  },
  {
   "cell_type": "code",
   "execution_count": 23,
   "metadata": {},
   "outputs": [
    {
     "data": {
      "text/plain": [
       "torch.Size([150, 204864])"
      ]
     },
     "execution_count": 23,
     "metadata": {},
     "output_type": "execute_result"
    }
   ],
   "source": [
    "q_im_act_matrix.shape"
   ]
  },
  {
   "cell_type": "code",
   "execution_count": 24,
   "metadata": {},
   "outputs": [
    {
     "data": {
      "text/plain": [
       "torch.Size([150])"
      ]
     },
     "execution_count": 24,
     "metadata": {},
     "output_type": "execute_result"
    }
   ],
   "source": [
    "gt_q.shape"
   ]
  },
  {
   "cell_type": "code",
   "execution_count": 25,
   "metadata": {},
   "outputs": [
    {
     "name": "stderr",
     "output_type": "stream",
     "text": [
      "/home/anmol/softwares/anaconda3/envs/pt10/lib/python3.6/site-packages/ipykernel_launcher.py:1: UserWarning: Implicit dimension choice for softmax has been deprecated. Change the call to include dim=X as an argument.\n",
      "  \"\"\"Entry point for launching an IPython kernel.\n"
     ]
    }
   ],
   "source": [
    "pred_q = softmax(pred_q)"
   ]
  },
  {
   "cell_type": "code",
   "execution_count": 26,
   "metadata": {},
   "outputs": [],
   "source": [
    "pred_q_pr, pred_q_cl = torch.max(pred_q, 1)"
   ]
  },
  {
   "cell_type": "code",
   "execution_count": 27,
   "metadata": {},
   "outputs": [],
   "source": [
    "new_gt_for_testing_q = torch.ones([pred_q.shape[0]], dtype=torch.int32)\n",
    "correct = incorrect = 0\n",
    "for i in range(0, pred_q.shape[0]):\n",
    "    if pred_q_cl[i] != gt_q[i]:\n",
    "        incorrect += 1\n",
    "        new_gt_for_testing_q[i] = -1\n",
    "    else:\n",
    "        correct += 1\n",
    "        new_gt_for_testing_q[i] = 1"
   ]
  },
  {
   "cell_type": "code",
   "execution_count": 28,
   "metadata": {},
   "outputs": [
    {
     "name": "stdout",
     "output_type": "stream",
     "text": [
      "Correct predictions = 110, incorrect predictions = 40\n"
     ]
    }
   ],
   "source": [
    "print(\"Correct predictions = {}, incorrect predictions = {}\".format(correct, incorrect))"
   ]
  },
  {
   "cell_type": "code",
   "execution_count": 29,
   "metadata": {},
   "outputs": [],
   "source": [
    "X_test = q_im_act_matrix.numpy()\n",
    "Y_test = new_gt_for_testing_q.numpy()"
   ]
  },
  {
   "cell_type": "markdown",
   "metadata": {},
   "source": [
    "Time to test!"
   ]
  },
  {
   "cell_type": "code",
   "execution_count": 31,
   "metadata": {},
   "outputs": [
    {
     "data": {
      "text/plain": [
       "0.7266666666666667"
      ]
     },
     "execution_count": 31,
     "metadata": {},
     "output_type": "execute_result"
    }
   ],
   "source": [
    "clf.score(X_test, Y_test)"
   ]
  },
  {
   "cell_type": "code",
   "execution_count": 32,
   "metadata": {},
   "outputs": [],
   "source": [
    "proba_X_test = clf.predict_proba(X_test)"
   ]
  },
  {
   "cell_type": "code",
   "execution_count": 33,
   "metadata": {},
   "outputs": [
    {
     "data": {
      "text/plain": [
       "array([[0.18332367, 0.81667633],\n",
       "       [0.28052116, 0.71947884],\n",
       "       [0.22221671, 0.77778329],\n",
       "       [0.21077242, 0.78922758],\n",
       "       [0.25869683, 0.74130317],\n",
       "       [0.17432284, 0.82567716],\n",
       "       [0.17627138, 0.82372862],\n",
       "       [0.27428204, 0.72571796],\n",
       "       [0.31227537, 0.68772463],\n",
       "       [0.20147814, 0.79852186],\n",
       "       [0.21990049, 0.78009951],\n",
       "       [0.49327161, 0.50672839],\n",
       "       [0.20833524, 0.79166476],\n",
       "       [0.26226945, 0.73773055],\n",
       "       [0.27215972, 0.72784028],\n",
       "       [0.33308206, 0.66691794],\n",
       "       [0.32704725, 0.67295275],\n",
       "       [0.24875534, 0.75124466],\n",
       "       [0.18974403, 0.81025597],\n",
       "       [0.26192471, 0.73807529],\n",
       "       [0.2794224 , 0.7205776 ],\n",
       "       [0.18645367, 0.81354633],\n",
       "       [0.61236613, 0.38763387],\n",
       "       [0.16762168, 0.83237832],\n",
       "       [0.22801836, 0.77198164],\n",
       "       [0.20947057, 0.79052943],\n",
       "       [0.31032041, 0.68967959],\n",
       "       [0.21151249, 0.78848751],\n",
       "       [0.42503679, 0.57496321],\n",
       "       [0.54945189, 0.45054811],\n",
       "       [0.15772678, 0.84227322],\n",
       "       [0.24940406, 0.75059594],\n",
       "       [0.22794856, 0.77205144],\n",
       "       [0.19127672, 0.80872328],\n",
       "       [0.33760701, 0.66239299],\n",
       "       [0.21441062, 0.78558938],\n",
       "       [0.22751741, 0.77248259],\n",
       "       [0.34547412, 0.65452588],\n",
       "       [0.19267755, 0.80732245],\n",
       "       [0.33913393, 0.66086607],\n",
       "       [0.16570196, 0.83429804],\n",
       "       [0.22989136, 0.77010864],\n",
       "       [0.17528976, 0.82471024],\n",
       "       [0.23520929, 0.76479071],\n",
       "       [0.26760839, 0.73239161],\n",
       "       [0.19005597, 0.80994403],\n",
       "       [0.19384149, 0.80615851],\n",
       "       [0.22389294, 0.77610706],\n",
       "       [0.18492812, 0.81507188],\n",
       "       [0.18773999, 0.81226001],\n",
       "       [0.1666741 , 0.8333259 ],\n",
       "       [0.2258716 , 0.7741284 ],\n",
       "       [0.26461536, 0.73538464],\n",
       "       [0.20969923, 0.79030077],\n",
       "       [0.15668052, 0.84331948],\n",
       "       [0.18911487, 0.81088513],\n",
       "       [0.19502741, 0.80497259],\n",
       "       [0.27431147, 0.72568853],\n",
       "       [0.22162141, 0.77837859],\n",
       "       [0.18740958, 0.81259042],\n",
       "       [0.20215854, 0.79784146],\n",
       "       [0.27026345, 0.72973655],\n",
       "       [0.25295476, 0.74704524],\n",
       "       [0.17182195, 0.82817805],\n",
       "       [0.16824891, 0.83175109],\n",
       "       [0.722494  , 0.277506  ],\n",
       "       [0.14289471, 0.85710529],\n",
       "       [0.15092442, 0.84907558],\n",
       "       [0.15257471, 0.84742529],\n",
       "       [0.1600222 , 0.8399778 ],\n",
       "       [0.2596662 , 0.7403338 ],\n",
       "       [0.18033293, 0.81966707],\n",
       "       [0.20836044, 0.79163956],\n",
       "       [0.17071597, 0.82928403],\n",
       "       [0.17602836, 0.82397164],\n",
       "       [0.158552  , 0.841448  ],\n",
       "       [0.25160403, 0.74839597],\n",
       "       [0.19639536, 0.80360464],\n",
       "       [0.17796283, 0.82203717],\n",
       "       [0.14120522, 0.85879478],\n",
       "       [0.1712408 , 0.8287592 ],\n",
       "       [0.25414592, 0.74585408],\n",
       "       [0.18089602, 0.81910398],\n",
       "       [0.18163937, 0.81836063],\n",
       "       [0.14607143, 0.85392857],\n",
       "       [0.26982648, 0.73017352],\n",
       "       [0.2392233 , 0.7607767 ],\n",
       "       [0.1626263 , 0.8373737 ],\n",
       "       [0.60292744, 0.39707256],\n",
       "       [0.18407287, 0.81592713],\n",
       "       [0.15236082, 0.84763918],\n",
       "       [0.18017302, 0.81982698],\n",
       "       [0.14967197, 0.85032803],\n",
       "       [0.15039547, 0.84960453],\n",
       "       [0.26796453, 0.73203547],\n",
       "       [0.20157002, 0.79842998],\n",
       "       [0.19953373, 0.80046627],\n",
       "       [0.19160783, 0.80839217],\n",
       "       [0.23285928, 0.76714072],\n",
       "       [0.3008958 , 0.6991042 ],\n",
       "       [0.28529218, 0.71470782],\n",
       "       [0.3553783 , 0.6446217 ],\n",
       "       [0.22335488, 0.77664512],\n",
       "       [0.27748382, 0.72251618],\n",
       "       [0.33120198, 0.66879802],\n",
       "       [0.16709768, 0.83290232],\n",
       "       [0.14630196, 0.85369804],\n",
       "       [0.16640193, 0.83359807],\n",
       "       [0.24075853, 0.75924147],\n",
       "       [0.30929838, 0.69070162],\n",
       "       [0.21345733, 0.78654267],\n",
       "       [0.40098699, 0.59901301],\n",
       "       [0.22643238, 0.77356762],\n",
       "       [0.21958745, 0.78041255],\n",
       "       [0.25116494, 0.74883506],\n",
       "       [0.28697614, 0.71302386],\n",
       "       [0.4878411 , 0.5121589 ],\n",
       "       [0.19460159, 0.80539841],\n",
       "       [0.25051628, 0.74948372],\n",
       "       [0.55237979, 0.44762021],\n",
       "       [0.43460814, 0.56539186],\n",
       "       [0.26469615, 0.73530385],\n",
       "       [0.22773445, 0.77226555],\n",
       "       [0.25710377, 0.74289623],\n",
       "       [0.38901389, 0.61098611],\n",
       "       [0.21638068, 0.78361932],\n",
       "       [0.28130767, 0.71869233],\n",
       "       [0.18044368, 0.81955632],\n",
       "       [0.15235507, 0.84764493],\n",
       "       [0.23295366, 0.76704634],\n",
       "       [0.31235545, 0.68764455],\n",
       "       [0.19637238, 0.80362762],\n",
       "       [0.20174708, 0.79825292],\n",
       "       [0.2174415 , 0.7825585 ],\n",
       "       [0.13738424, 0.86261576],\n",
       "       [0.16966835, 0.83033165],\n",
       "       [0.15882049, 0.84117951],\n",
       "       [0.21346759, 0.78653241],\n",
       "       [0.18560273, 0.81439727],\n",
       "       [0.18037379, 0.81962621],\n",
       "       [0.16619477, 0.83380523],\n",
       "       [0.15086747, 0.84913253],\n",
       "       [0.17166488, 0.82833512],\n",
       "       [0.15645382, 0.84354618],\n",
       "       [0.1738994 , 0.8261006 ],\n",
       "       [0.17604825, 0.82395175],\n",
       "       [0.15700642, 0.84299358],\n",
       "       [0.20721791, 0.79278209],\n",
       "       [0.20252122, 0.79747878],\n",
       "       [0.19987254, 0.80012746]])"
      ]
     },
     "execution_count": 33,
     "metadata": {},
     "output_type": "execute_result"
    }
   ],
   "source": [
    "proba_X_test"
   ]
  },
  {
   "cell_type": "code",
   "execution_count": 74,
   "metadata": {},
   "outputs": [
    {
     "data": {
      "text/plain": [
       "tensor([1, 1, 1, 1, 1, 1, 1, 1, 1, 1, 1, 1, 1, 1, 1, 1, 1, 1, 1, 1, 1, 1, 1, 1,\n",
       "        1, 1, 1, 1, 1, 1, 0, 0, 0, 0, 0, 0, 0, 0, 0, 0, 0, 0, 0, 0, 0, 0, 0, 0,\n",
       "        0, 0, 0, 0, 0, 0, 0, 0, 0, 0, 0, 0, 0, 0, 0, 0, 0, 0, 0, 0, 0, 0, 0, 0,\n",
       "        0, 0, 0, 0, 0, 0, 0, 0, 0, 0, 0, 0, 0, 0, 0, 0, 0, 0, 0, 0, 0, 0, 0, 0,\n",
       "        0, 0, 0, 0, 0, 0, 0, 0, 0, 0, 0, 0, 0, 0, 0, 0, 0, 0, 0, 0, 0, 0, 0, 0,\n",
       "        0, 0, 0, 0, 0, 0, 0, 0, 0, 0, 0, 0, 0, 0, 0, 0, 0, 0, 0, 0, 0, 0, 0, 0,\n",
       "        0, 0, 0, 0, 0, 0])"
      ]
     },
     "execution_count": 74,
     "metadata": {},
     "output_type": "execute_result"
    }
   ],
   "source": [
    "gt_q"
   ]
  },
  {
   "cell_type": "code",
   "execution_count": 35,
   "metadata": {},
   "outputs": [],
   "source": [
    "import numpy as np"
   ]
  },
  {
   "cell_type": "code",
   "execution_count": 37,
   "metadata": {
    "scrolled": true
   },
   "outputs": [
    {
     "data": {
      "image/png": "[encoded data removed]",
      "text/plain": [
       "<Figure size 432x288 with 1 Axes>"
      ]
     },
     "metadata": {
      "needs_background": "light"
     },
     "output_type": "display_data"
    }
   ],
   "source": [
    "x = np.array(range(0,  150))\n",
    "plt.plot(x, pred_q.numpy()[:, 0], label='pr_0')\n",
    "plt.plot(x, pred_q.numpy()[:, 1], label='pr_1')\n",
    "plt.plot(x, proba_X_test[:, 0], label='pr_svm_0')\n",
    "plt.plot(x, gt_q.numpy(), label='gt')\n",
    "plt.legend()\n",
    "plt.show()"
   ]
  },
  {
   "cell_type": "code",
   "execution_count": 80,
   "metadata": {},
   "outputs": [
    {
     "data": {
      "text/plain": [
       "tensor([[9.9886e-01, 1.1360e-03],\n",
       "        [9.3343e-01, 6.6572e-02],\n",
       "        [1.0000e+00, 1.0319e-07],\n",
       "        [1.0000e+00, 6.7845e-10],\n",
       "        [1.6554e-02, 9.8345e-01],\n",
       "        [9.9982e-01, 1.8214e-04],\n",
       "        [9.9982e-01, 1.7829e-04],\n",
       "        [4.7465e-03, 9.9525e-01],\n",
       "        [9.1992e-01, 8.0075e-02],\n",
       "        [9.6239e-01, 3.7609e-02],\n",
       "        [9.9674e-01, 3.2574e-03],\n",
       "        [8.5501e-04, 9.9915e-01],\n",
       "        [9.9765e-01, 2.3511e-03],\n",
       "        [9.9968e-01, 3.2495e-04],\n",
       "        [9.9676e-01, 3.2430e-03],\n",
       "        [2.8391e-04, 9.9972e-01],\n",
       "        [3.2492e-01, 6.7508e-01],\n",
       "        [2.0396e-01, 7.9604e-01],\n",
       "        [9.9982e-01, 1.8105e-04],\n",
       "        [3.9349e-02, 9.6065e-01],\n",
       "        [9.9992e-01, 7.5100e-05],\n",
       "        [9.9258e-01, 7.4244e-03],\n",
       "        [9.9999e-01, 1.4114e-05],\n",
       "        [9.9843e-01, 1.5682e-03],\n",
       "        [8.8081e-01, 1.1919e-01],\n",
       "        [1.0000e+00, 2.8632e-06],\n",
       "        [9.3198e-01, 6.8018e-02],\n",
       "        [2.5660e-02, 9.7434e-01],\n",
       "        [9.8866e-06, 9.9999e-01],\n",
       "        [4.6523e-02, 9.5348e-01],\n",
       "        [1.0000e+00, 1.4228e-16],\n",
       "        [9.9984e-01, 1.6313e-04],\n",
       "        [1.0000e+00, 5.0767e-17],\n",
       "        [1.0000e+00, 1.8589e-08],\n",
       "        [1.0000e+00, 5.0224e-11],\n",
       "        [1.2126e-01, 8.7874e-01],\n",
       "        [1.0000e+00, 2.5340e-18],\n",
       "        [1.0000e+00, 2.0092e-11],\n",
       "        [1.0000e+00, 4.0293e-09],\n",
       "        [1.0000e+00, 3.1420e-19],\n",
       "        [9.9992e-01, 7.5881e-05],\n",
       "        [9.9672e-01, 3.2769e-03],\n",
       "        [8.9183e-01, 1.0817e-01],\n",
       "        [1.0000e+00, 3.1075e-08],\n",
       "        [1.0000e+00, 1.6559e-08],\n",
       "        [5.5737e-01, 4.4263e-01],\n",
       "        [1.0000e+00, 3.1790e-07],\n",
       "        [9.9998e-01, 1.6270e-05],\n",
       "        [1.0000e+00, 4.1027e-17],\n",
       "        [1.0000e+00, 6.3623e-26],\n",
       "        [9.9955e-01, 4.5492e-04],\n",
       "        [1.0000e+00, 1.0208e-07],\n",
       "        [1.0000e+00, 5.0968e-33],\n",
       "        [9.9512e-01, 4.8808e-03],\n",
       "        [9.9999e-01, 5.7689e-06],\n",
       "        [9.9771e-01, 2.2894e-03],\n",
       "        [9.9997e-01, 3.0497e-05],\n",
       "        [1.0000e+00, 4.5579e-13],\n",
       "        [9.9630e-01, 3.6963e-03],\n",
       "        [1.0000e+00, 2.0088e-06],\n",
       "        [9.9622e-01, 3.7820e-03],\n",
       "        [8.9144e-01, 1.0856e-01],\n",
       "        [6.2364e-02, 9.3764e-01],\n",
       "        [9.8691e-01, 1.3091e-02],\n",
       "        [8.9395e-01, 1.0605e-01],\n",
       "        [9.9989e-01, 1.1020e-04],\n",
       "        [1.0000e+00, 4.6068e-07],\n",
       "        [1.0000e+00, 2.6289e-07],\n",
       "        [1.0000e+00, 2.3078e-07],\n",
       "        [1.0000e+00, 3.3496e-07],\n",
       "        [9.3707e-01, 6.2927e-02],\n",
       "        [9.5176e-01, 4.8238e-02],\n",
       "        [9.9998e-01, 1.5831e-05],\n",
       "        [9.9345e-01, 6.5470e-03],\n",
       "        [9.9891e-01, 1.0932e-03],\n",
       "        [9.9993e-01, 7.3626e-05],\n",
       "        [1.0000e+00, 1.4045e-06],\n",
       "        [1.0000e+00, 1.6281e-09],\n",
       "        [9.9891e-01, 1.0851e-03],\n",
       "        [9.9994e-01, 5.8032e-05],\n",
       "        [1.0000e+00, 3.8879e-06],\n",
       "        [9.9977e-01, 2.3468e-04],\n",
       "        [9.7548e-01, 2.4521e-02],\n",
       "        [9.9994e-01, 6.4529e-05],\n",
       "        [1.0000e+00, 3.4931e-09],\n",
       "        [1.0000e+00, 8.2255e-20],\n",
       "        [8.8399e-01, 1.1601e-01],\n",
       "        [9.9999e-01, 6.9798e-06],\n",
       "        [8.9372e-03, 9.9106e-01],\n",
       "        [5.1822e-01, 4.8178e-01],\n",
       "        [9.9841e-01, 1.5938e-03],\n",
       "        [8.4639e-01, 1.5361e-01],\n",
       "        [4.2946e-01, 5.7054e-01],\n",
       "        [1.0000e+00, 1.3857e-07],\n",
       "        [8.7488e-01, 1.2512e-01],\n",
       "        [9.9992e-01, 7.5786e-05],\n",
       "        [9.8639e-01, 1.3610e-02],\n",
       "        [9.9806e-01, 1.9385e-03],\n",
       "        [9.9988e-01, 1.2115e-04],\n",
       "        [4.5359e-01, 5.4641e-01],\n",
       "        [7.7751e-01, 2.2249e-01],\n",
       "        [9.5897e-03, 9.9041e-01],\n",
       "        [9.9998e-01, 1.8215e-05],\n",
       "        [9.9334e-01, 6.6617e-03],\n",
       "        [9.9997e-01, 2.7434e-05],\n",
       "        [6.4463e-02, 9.3554e-01],\n",
       "        [9.9920e-01, 7.9819e-04],\n",
       "        [1.0000e+00, 8.7678e-08],\n",
       "        [1.3947e-02, 9.8605e-01],\n",
       "        [9.9998e-01, 2.4085e-05],\n",
       "        [5.4514e-03, 9.9455e-01],\n",
       "        [3.2035e-03, 9.9680e-01],\n",
       "        [6.2437e-03, 9.9376e-01],\n",
       "        [1.1168e-02, 9.8883e-01],\n",
       "        [2.8786e-02, 9.7121e-01],\n",
       "        [9.9971e-01, 2.9414e-04],\n",
       "        [9.9602e-01, 3.9793e-03],\n",
       "        [8.3502e-01, 1.6498e-01],\n",
       "        [9.9961e-01, 3.8877e-04],\n",
       "        [9.9875e-01, 1.2479e-03],\n",
       "        [9.9242e-01, 7.5821e-03],\n",
       "        [2.9438e-01, 7.0562e-01],\n",
       "        [9.9732e-01, 2.6840e-03],\n",
       "        [9.9464e-01, 5.3566e-03],\n",
       "        [9.9454e-01, 5.4591e-03],\n",
       "        [9.9951e-01, 4.9297e-04],\n",
       "        [1.0000e+00, 6.7085e-13],\n",
       "        [9.1448e-01, 8.5518e-02],\n",
       "        [9.8052e-01, 1.9479e-02],\n",
       "        [3.5280e-01, 6.4720e-01],\n",
       "        [9.9971e-01, 2.9450e-04],\n",
       "        [9.9476e-01, 5.2385e-03],\n",
       "        [1.2690e-02, 9.8731e-01],\n",
       "        [6.8484e-03, 9.9315e-01],\n",
       "        [9.9998e-01, 1.7619e-05],\n",
       "        [9.8959e-01, 1.0409e-02],\n",
       "        [1.0000e+00, 4.3535e-06],\n",
       "        [1.0000e+00, 1.1458e-06],\n",
       "        [9.9984e-01, 1.6300e-04],\n",
       "        [8.6457e-01, 1.3543e-01],\n",
       "        [1.0000e+00, 5.8512e-07],\n",
       "        [9.9997e-01, 2.7919e-05],\n",
       "        [1.6785e-02, 9.8321e-01],\n",
       "        [6.5932e-01, 3.4068e-01],\n",
       "        [9.9980e-01, 2.0298e-04],\n",
       "        [9.7871e-01, 2.1288e-02],\n",
       "        [1.0000e+00, 1.3553e-07],\n",
       "        [9.9999e-01, 1.0477e-05],\n",
       "        [4.8599e-02, 9.5140e-01],\n",
       "        [6.4262e-03, 9.9357e-01]])"
      ]
     },
     "execution_count": 80,
     "metadata": {},
     "output_type": "execute_result"
    }
   ],
   "source": [
    "pred_q"
   ]
  },
  {
   "cell_type": "code",
   "execution_count": null,
   "metadata": {},
   "outputs": [],
   "source": []
  }
 ],
 "metadata": {
  "kernelspec": {
   "display_name": "Python 3",
   "language": "python",
   "name": "python3"
  },
  "language_info": {
   "codemirror_mode": {
    "name": "ipython",
    "version": 3
   },
   "file_extension": ".py",
   "mimetype": "text/x-python",
   "name": "python",
   "nbconvert_exporter": "python",
   "pygments_lexer": "ipython3",
   "version": "3.6.8"
  }
 },
 "nbformat": 4,
 "nbformat_minor": 2
}
